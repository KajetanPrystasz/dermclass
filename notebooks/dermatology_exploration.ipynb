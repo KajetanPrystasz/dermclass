{
 "cells": [
  {
   "cell_type": "markdown",
   "metadata": {},
   "source": [
    "### Imports"
   ]
  },
  {
   "cell_type": "code",
   "execution_count": 1,
   "metadata": {},
   "outputs": [],
   "source": [
    "import numpy as np\n",
    "import pandas as pd\n",
    "import seaborn as sns\n",
    "\n",
    "from sklearn.model_selection import train_test_split\n",
    "from sklearn.metrics import accuracy_score, confusion_matrix, classification_report\n",
    "\n",
    "from dermclass_structured.train_pipeline import run\n",
    "from dermclass_structured.predict import make_prediction"
   ]
  },
  {
   "cell_type": "markdown",
   "metadata": {},
   "source": [
    "### Initial EDA (To be extended)"
   ]
  },
  {
   "cell_type": "code",
   "execution_count": 2,
   "metadata": {
    "collapsed": false,
    "jupyter": {
     "outputs_hidden": false
    },
    "pycharm": {
     "name": "#%%\n"
    }
   },
   "outputs": [
    {
     "name": "stdout",
     "output_type": "stream",
     "text": [
      "Index(['erythema', 'scaling', 'definite_borders', 'itching',\n",
      "       'koebner_phenomenon', 'polygonal_papules', 'follicular_papules',\n",
      "       'oral_mucosal_involvement', 'knee_and_elbow_involvement',\n",
      "       'scalp_involvement', 'family_history', 'melanin_incontinence',\n",
      "       'eosinophils_in_the_infiltrate', 'pnl_infiltrate',\n",
      "       'fibrosis_of_the_papillary_dermis', 'exocytosis', 'acanthosis',\n",
      "       'hyperkeratosis', 'parakeratosis', 'clubbing_of_the_rete_ridges',\n",
      "       'elongation_of_the_rete_ridges',\n",
      "       'thinning_of_the_suprapapillary_epidermis', 'spongiform_pustule',\n",
      "       'munro_microabcess', 'focal_hypergranulosis',\n",
      "       'disappearance_of_the_granular_layer',\n",
      "       'vacuolisation_and_damage_of_basal_layer', 'spongiosis',\n",
      "       'saw-tooth_appearance_of_retes', 'follicular_horn_plug',\n",
      "       'perifollicular_parakeratosis', 'inflammatory_monoluclear_inflitrate',\n",
      "       'band-like_infiltrate', 'age', 'class'],\n",
      "      dtype='object')\n"
     ]
    },
    {
     "data": {
      "text/html": [
       "<div>\n",
       "<style scoped>\n",
       "    .dataframe tbody tr th:only-of-type {\n",
       "        vertical-align: middle;\n",
       "    }\n",
       "\n",
       "    .dataframe tbody tr th {\n",
       "        vertical-align: top;\n",
       "    }\n",
       "\n",
       "    .dataframe thead th {\n",
       "        text-align: right;\n",
       "    }\n",
       "</style>\n",
       "<table border=\"1\" class=\"dataframe\">\n",
       "  <thead>\n",
       "    <tr style=\"text-align: right;\">\n",
       "      <th></th>\n",
       "      <th>erythema</th>\n",
       "      <th>scaling</th>\n",
       "      <th>definite_borders</th>\n",
       "      <th>itching</th>\n",
       "      <th>koebner_phenomenon</th>\n",
       "      <th>polygonal_papules</th>\n",
       "      <th>follicular_papules</th>\n",
       "      <th>oral_mucosal_involvement</th>\n",
       "      <th>knee_and_elbow_involvement</th>\n",
       "      <th>scalp_involvement</th>\n",
       "      <th>...</th>\n",
       "      <th>disappearance_of_the_granular_layer</th>\n",
       "      <th>vacuolisation_and_damage_of_basal_layer</th>\n",
       "      <th>spongiosis</th>\n",
       "      <th>saw-tooth_appearance_of_retes</th>\n",
       "      <th>follicular_horn_plug</th>\n",
       "      <th>perifollicular_parakeratosis</th>\n",
       "      <th>inflammatory_monoluclear_inflitrate</th>\n",
       "      <th>band-like_infiltrate</th>\n",
       "      <th>age</th>\n",
       "      <th>class</th>\n",
       "    </tr>\n",
       "  </thead>\n",
       "  <tbody>\n",
       "    <tr>\n",
       "      <th>0</th>\n",
       "      <td>2</td>\n",
       "      <td>2</td>\n",
       "      <td>0</td>\n",
       "      <td>3</td>\n",
       "      <td>0</td>\n",
       "      <td>0</td>\n",
       "      <td>0</td>\n",
       "      <td>0</td>\n",
       "      <td>1</td>\n",
       "      <td>0</td>\n",
       "      <td>...</td>\n",
       "      <td>0</td>\n",
       "      <td>0</td>\n",
       "      <td>3</td>\n",
       "      <td>0</td>\n",
       "      <td>0</td>\n",
       "      <td>0</td>\n",
       "      <td>1</td>\n",
       "      <td>0</td>\n",
       "      <td>55.0</td>\n",
       "      <td>2</td>\n",
       "    </tr>\n",
       "    <tr>\n",
       "      <th>1</th>\n",
       "      <td>3</td>\n",
       "      <td>3</td>\n",
       "      <td>3</td>\n",
       "      <td>2</td>\n",
       "      <td>1</td>\n",
       "      <td>0</td>\n",
       "      <td>0</td>\n",
       "      <td>0</td>\n",
       "      <td>1</td>\n",
       "      <td>1</td>\n",
       "      <td>...</td>\n",
       "      <td>0</td>\n",
       "      <td>0</td>\n",
       "      <td>0</td>\n",
       "      <td>0</td>\n",
       "      <td>0</td>\n",
       "      <td>0</td>\n",
       "      <td>1</td>\n",
       "      <td>0</td>\n",
       "      <td>8.0</td>\n",
       "      <td>1</td>\n",
       "    </tr>\n",
       "    <tr>\n",
       "      <th>2</th>\n",
       "      <td>2</td>\n",
       "      <td>1</td>\n",
       "      <td>2</td>\n",
       "      <td>3</td>\n",
       "      <td>1</td>\n",
       "      <td>3</td>\n",
       "      <td>0</td>\n",
       "      <td>3</td>\n",
       "      <td>0</td>\n",
       "      <td>0</td>\n",
       "      <td>...</td>\n",
       "      <td>0</td>\n",
       "      <td>2</td>\n",
       "      <td>3</td>\n",
       "      <td>2</td>\n",
       "      <td>0</td>\n",
       "      <td>0</td>\n",
       "      <td>2</td>\n",
       "      <td>3</td>\n",
       "      <td>26.0</td>\n",
       "      <td>3</td>\n",
       "    </tr>\n",
       "    <tr>\n",
       "      <th>3</th>\n",
       "      <td>2</td>\n",
       "      <td>2</td>\n",
       "      <td>2</td>\n",
       "      <td>0</td>\n",
       "      <td>0</td>\n",
       "      <td>0</td>\n",
       "      <td>0</td>\n",
       "      <td>0</td>\n",
       "      <td>3</td>\n",
       "      <td>2</td>\n",
       "      <td>...</td>\n",
       "      <td>3</td>\n",
       "      <td>0</td>\n",
       "      <td>0</td>\n",
       "      <td>0</td>\n",
       "      <td>0</td>\n",
       "      <td>0</td>\n",
       "      <td>3</td>\n",
       "      <td>0</td>\n",
       "      <td>40.0</td>\n",
       "      <td>1</td>\n",
       "    </tr>\n",
       "    <tr>\n",
       "      <th>4</th>\n",
       "      <td>2</td>\n",
       "      <td>3</td>\n",
       "      <td>2</td>\n",
       "      <td>2</td>\n",
       "      <td>2</td>\n",
       "      <td>2</td>\n",
       "      <td>0</td>\n",
       "      <td>2</td>\n",
       "      <td>0</td>\n",
       "      <td>0</td>\n",
       "      <td>...</td>\n",
       "      <td>2</td>\n",
       "      <td>3</td>\n",
       "      <td>2</td>\n",
       "      <td>3</td>\n",
       "      <td>0</td>\n",
       "      <td>0</td>\n",
       "      <td>2</td>\n",
       "      <td>3</td>\n",
       "      <td>45.0</td>\n",
       "      <td>3</td>\n",
       "    </tr>\n",
       "  </tbody>\n",
       "</table>\n",
       "<p>5 rows × 35 columns</p>\n",
       "</div>"
      ],
      "text/plain": [
       "   erythema  scaling  definite_borders  itching  koebner_phenomenon  \\\n",
       "0         2        2                 0        3                   0   \n",
       "1         3        3                 3        2                   1   \n",
       "2         2        1                 2        3                   1   \n",
       "3         2        2                 2        0                   0   \n",
       "4         2        3                 2        2                   2   \n",
       "\n",
       "   polygonal_papules  follicular_papules  oral_mucosal_involvement  \\\n",
       "0                  0                   0                         0   \n",
       "1                  0                   0                         0   \n",
       "2                  3                   0                         3   \n",
       "3                  0                   0                         0   \n",
       "4                  2                   0                         2   \n",
       "\n",
       "   knee_and_elbow_involvement  scalp_involvement  ...  \\\n",
       "0                           1                  0  ...   \n",
       "1                           1                  1  ...   \n",
       "2                           0                  0  ...   \n",
       "3                           3                  2  ...   \n",
       "4                           0                  0  ...   \n",
       "\n",
       "   disappearance_of_the_granular_layer  \\\n",
       "0                                    0   \n",
       "1                                    0   \n",
       "2                                    0   \n",
       "3                                    3   \n",
       "4                                    2   \n",
       "\n",
       "   vacuolisation_and_damage_of_basal_layer  spongiosis  \\\n",
       "0                                        0           3   \n",
       "1                                        0           0   \n",
       "2                                        2           3   \n",
       "3                                        0           0   \n",
       "4                                        3           2   \n",
       "\n",
       "   saw-tooth_appearance_of_retes  follicular_horn_plug  \\\n",
       "0                              0                     0   \n",
       "1                              0                     0   \n",
       "2                              2                     0   \n",
       "3                              0                     0   \n",
       "4                              3                     0   \n",
       "\n",
       "   perifollicular_parakeratosis  inflammatory_monoluclear_inflitrate  \\\n",
       "0                             0                                    1   \n",
       "1                             0                                    1   \n",
       "2                             0                                    2   \n",
       "3                             0                                    3   \n",
       "4                             0                                    2   \n",
       "\n",
       "   band-like_infiltrate   age  class  \n",
       "0                     0  55.0      2  \n",
       "1                     0   8.0      1  \n",
       "2                     3  26.0      3  \n",
       "3                     0  40.0      1  \n",
       "4                     3  45.0      3  \n",
       "\n",
       "[5 rows x 35 columns]"
      ]
     },
     "execution_count": 2,
     "metadata": {},
     "output_type": "execute_result"
    }
   ],
   "source": [
    "df = pd.read_csv(\"../src/dermclass_structured/dermclass_structured/datasets/dermatology_dataset.csv\")\n",
    "print(df.columns)\n",
    "df.head()"
   ]
  },
  {
   "cell_type": "code",
   "execution_count": 3,
   "metadata": {},
   "outputs": [
    {
     "data": {
      "text/plain": [
       "erythema                                    0\n",
       "scaling                                     0\n",
       "definite_borders                            0\n",
       "itching                                     0\n",
       "koebner_phenomenon                          0\n",
       "polygonal_papules                           0\n",
       "follicular_papules                          0\n",
       "oral_mucosal_involvement                    0\n",
       "knee_and_elbow_involvement                  0\n",
       "scalp_involvement                           0\n",
       "family_history                              0\n",
       "melanin_incontinence                        0\n",
       "eosinophils_in_the_infiltrate               0\n",
       "pnl_infiltrate                              0\n",
       "fibrosis_of_the_papillary_dermis            0\n",
       "exocytosis                                  0\n",
       "acanthosis                                  0\n",
       "hyperkeratosis                              0\n",
       "parakeratosis                               0\n",
       "clubbing_of_the_rete_ridges                 0\n",
       "elongation_of_the_rete_ridges               0\n",
       "thinning_of_the_suprapapillary_epidermis    0\n",
       "spongiform_pustule                          0\n",
       "munro_microabcess                           0\n",
       "focal_hypergranulosis                       0\n",
       "disappearance_of_the_granular_layer         0\n",
       "vacuolisation_and_damage_of_basal_layer     0\n",
       "spongiosis                                  0\n",
       "saw-tooth_appearance_of_retes               0\n",
       "follicular_horn_plug                        0\n",
       "perifollicular_parakeratosis                0\n",
       "inflammatory_monoluclear_inflitrate         0\n",
       "band-like_infiltrate                        0\n",
       "age                                         8\n",
       "class                                       0\n",
       "dtype: int64"
      ]
     },
     "execution_count": 3,
     "metadata": {},
     "output_type": "execute_result"
    }
   ],
   "source": [
    "df.isnull().sum()"
   ]
  },
  {
   "cell_type": "code",
   "execution_count": 4,
   "metadata": {},
   "outputs": [],
   "source": [
    "x = df.drop(\"class\", 1)\n",
    "y = df[\"class\"]\n",
    "x_train, x_test, y_train, y_test = train_test_split(x, y, test_size=0.2, random_state=42)"
   ]
  },
  {
   "cell_type": "code",
   "execution_count": 5,
   "metadata": {},
   "outputs": [
    {
     "name": "stderr",
     "output_type": "stream",
     "text": [
      "C:\\Users\\Kajetan\\Anaconda3\\envs\\dermclass\\lib\\site-packages\\seaborn\\_decorators.py:43: FutureWarning: Pass the following variable as a keyword arg: x. From version 0.12, the only valid positional argument will be `data`, and passing other arguments without an explicit keyword will result in an error or misinterpretation.\n",
      "  FutureWarning\n"
     ]
    },
    {
     "data": {
      "text/plain": [
       "<AxesSubplot:xlabel='class', ylabel='count'>"
      ]
     },
     "execution_count": 5,
     "metadata": {},
     "output_type": "execute_result"
    },
    {
     "data": {
      "image/png": "[encoded data removed]",
      "text/plain": [
       "<Figure size 432x288 with 1 Axes>"
      ]
     },
     "metadata": {
      "needs_background": "light"
     },
     "output_type": "display_data"
    }
   ],
   "source": [
    "sns.countplot(y)"
   ]
  },
  {
   "cell_type": "markdown",
   "metadata": {},
   "source": [
    "### Example of helper functions"
   ]
  },
  {
   "cell_type": "code",
   "execution_count": 6,
   "metadata": {},
   "outputs": [],
   "source": [
    "# Will be added in the future"
   ]
  },
  {
   "cell_type": "markdown",
   "metadata": {},
   "source": [
    "### Example of 2 main functions"
   ]
  },
  {
   "cell_type": "code",
   "execution_count": 7,
   "metadata": {
    "collapsed": true,
    "jupyter": {
     "outputs_hidden": true
    }
   },
   "outputs": [
    {
     "name": "stdout",
     "output_type": "stream",
     "text": [
      "2020-10-04 22:49:26,930 — dermclass_structured.train_pipeline — INFO —run:16 — Started training the pipeline\n",
      "2020-10-04 22:49:26,938 — dermclass_structured.processing.preprocessors — INFO —split_target:16 — Successfully splat the data\n",
      "2020-10-04 22:49:26,939 — dermclass_structured.processing.preprocessors — INFO —load_data:25 — Successfully loaded the data\n",
      "2020-10-04 22:49:26,945 — dermclass_structured.processing.preprocessors — INFO —transform:59 — Successfully transformed variables\n",
      "2020-10-04 22:49:26,979 — dermclass_structured.processing.pipeline — INFO —fit_ppc_pipeline:45 — Successfully fitted the preprocessing pipeline\n",
      "2020-10-04 22:49:26,983 — dermclass_structured.processing.preprocessors — INFO —transform:59 — Successfully transformed variables\n",
      "2020-10-04 22:49:26,999 — dermclass_structured.processing.preprocessors — INFO —transform:59 — Successfully transformed variables\n",
      "2020-10-04 22:49:27,018 — dermclass_structured.processing.pipeline — INFO —tune_hyperparameters:84 — Finding hyperameters for XGBRFClassifier\n"
     ]
    },
    {
     "name": "stderr",
     "output_type": "stream",
     "text": [
      "[I 2020-10-04 22:49:27,020] A new study created in memory with name: XGBRFClassifier\n",
      "[I 2020-10-04 22:49:28,405] Trial 0 finished with value: 0.5855950627673749 and parameters: {'subsample': 0.4, 'colsample_bytree': 1.0, 'colsample_bylevel': 0.9, 'min_child_weight': 7, 'max_depth': 12, 'max_delta_step': 1.6, 'learning_rate': 0.011430983876313222, 'n_estimators': 187, 'gamma': 10.1}. Best is trial 0 with value: 0.5855950627673749.\n",
      "[I 2020-10-04 22:49:29,101] Trial 1 finished with value: 0.0 and parameters: {'subsample': 0.2, 'colsample_bytree': 0.9, 'colsample_bylevel': 0.6, 'min_child_weight': 12, 'max_depth': 8, 'max_delta_step': 0.1, 'learning_rate': 0.09822263016087535, 'n_estimators': 260, 'gamma': 9.2}. Best is trial 0 with value: 0.5855950627673749.\n",
      "[I 2020-10-04 22:49:30,217] Trial 2 finished with value: 0.47945157444421066 and parameters: {'subsample': 0.6, 'colsample_bytree': 0.8, 'colsample_bylevel': 0.7, 'min_child_weight': 10, 'max_depth': 5, 'max_delta_step': 3.9000000000000004, 'learning_rate': 0.09621236402909387, 'n_estimators': 230, 'gamma': 25.800000000000004}. Best is trial 0 with value: 0.5855950627673749.\n",
      "[I 2020-10-04 22:49:32,341] Trial 3 finished with value: 0.4760151483273722 and parameters: {'subsample': 0.7000000000000001, 'colsample_bytree': 0.8, 'colsample_bylevel': 0.6, 'min_child_weight': 14, 'max_depth': 4, 'max_delta_step': 3.9000000000000004, 'learning_rate': 0.010374477955901195, 'n_estimators': 485, 'gamma': 20.6}. Best is trial 0 with value: 0.5855950627673749.\n",
      "[I 2020-10-04 22:49:33,814] Trial 4 finished with value: 0.0 and parameters: {'subsample': 0.5, 'colsample_bytree': 0.6, 'colsample_bylevel': 0.8, 'min_child_weight': 15, 'max_depth': 5, 'max_delta_step': 9.1, 'learning_rate': 0.01814596135349025, 'n_estimators': 459, 'gamma': 22.700000000000003}. Best is trial 0 with value: 0.5855950627673749.\n",
      "[I 2020-10-04 22:49:35,364] Trial 5 finished with value: 0.2774037450031559 and parameters: {'subsample': 0.5, 'colsample_bytree': 0.7, 'colsample_bylevel': 0.8, 'min_child_weight': 18, 'max_depth': 12, 'max_delta_step': 4.5, 'learning_rate': 0.024839922470497277, 'n_estimators': 369, 'gamma': 21.900000000000002}. Best is trial 0 with value: 0.5855950627673749.\n",
      "[I 2020-10-04 22:49:36,239] Trial 6 finished with value: 0.0 and parameters: {'subsample': 0.4, 'colsample_bytree': 0.8, 'colsample_bylevel': 0.8, 'min_child_weight': 8, 'max_depth': 7, 'max_delta_step': 3.9000000000000004, 'learning_rate': 0.01867880257107068, 'n_estimators': 152, 'gamma': 17.700000000000003}. Best is trial 0 with value: 0.5855950627673749.\n",
      "[I 2020-10-04 22:49:37,384] Trial 7 finished with value: 0.7157584683357879 and parameters: {'subsample': 1.0, 'colsample_bytree': 0.9, 'colsample_bylevel': 0.7, 'min_child_weight': 15, 'max_depth': 3, 'max_delta_step': 0.2, 'learning_rate': 0.026509496593643846, 'n_estimators': 228, 'gamma': 6.0}. Best is trial 7 with value: 0.7157584683357879.\n",
      "[I 2020-10-04 22:49:38,832] Trial 8 finished with value: 0.0 and parameters: {'subsample': 0.1, 'colsample_bytree': 1.0, 'colsample_bylevel': 0.9, 'min_child_weight': 3, 'max_depth': 5, 'max_delta_step': 7.8, 'learning_rate': 0.011858906685575274, 'n_estimators': 330, 'gamma': 19.6}. Best is trial 7 with value: 0.7157584683357879.\n",
      "[I 2020-10-04 22:49:41,237] Trial 9 finished with value: 0.904200855599972 and parameters: {'subsample': 1.0, 'colsample_bytree': 1.0, 'colsample_bylevel': 0.8, 'min_child_weight': 1, 'max_depth': 9, 'max_delta_step': 3.2, 'learning_rate': 0.021143813626634367, 'n_estimators': 198, 'gamma': 17.8}. Best is trial 9 with value: 0.904200855599972.\n",
      "[I 2020-10-04 22:49:42,610] Trial 10 finished with value: 0.8835822988989411 and parameters: {'subsample': 1.0, 'colsample_bytree': 1.0, 'colsample_bylevel': 1.0, 'min_child_weight': 1, 'max_depth': 10, 'max_delta_step': 6.5, 'learning_rate': 0.05098689546777847, 'n_estimators': 107, 'gamma': 28.500000000000004}. Best is trial 9 with value: 0.904200855599972.\n",
      "[I 2020-10-04 22:49:43,553] Trial 11 finished with value: 0.0 and parameters: {'subsample': 1.0, 'colsample_bytree': 1.0, 'colsample_bylevel': 1.0, 'min_child_weight': 2, 'max_depth': 10, 'max_delta_step': 6.6, 'learning_rate': 0.05824149738886277, 'n_estimators': 103, 'gamma': 29.500000000000004}. Best is trial 9 with value: 0.904200855599972.\n",
      "[I 2020-10-04 22:49:44,597] Trial 12 finished with value: 0.8834771021810787 and parameters: {'subsample': 0.8, 'colsample_bytree': 0.9, 'colsample_bylevel': 1.0, 'min_child_weight': 1, 'max_depth': 10, 'max_delta_step': 6.2, 'learning_rate': 0.04751246814207066, 'n_estimators': 102, 'gamma': 29.900000000000002}. Best is trial 9 with value: 0.904200855599972.\n",
      "[I 2020-10-04 22:49:45,900] Trial 13 finished with value: 0.8871239217336419 and parameters: {'subsample': 0.9, 'colsample_bytree': 1.0, 'colsample_bylevel': 0.9, 'min_child_weight': 5, 'max_depth': 10, 'max_delta_step': 2.2, 'learning_rate': 0.04451730529198163, 'n_estimators': 154, 'gamma': 13.9}. Best is trial 9 with value: 0.904200855599972.\n",
      "[I 2020-10-04 22:49:47,286] Trial 14 finished with value: 0.8870537905884003 and parameters: {'subsample': 0.8, 'colsample_bytree': 0.9, 'colsample_bylevel': 0.9, 'min_child_weight': 5, 'max_depth': 8, 'max_delta_step': 2.3000000000000003, 'learning_rate': 0.03306444897668001, 'n_estimators': 169, 'gamma': 13.700000000000001}. Best is trial 9 with value: 0.904200855599972.\n",
      "[I 2020-10-04 22:49:49,428] Trial 15 finished with value: 0.8939967739673188 and parameters: {'subsample': 0.9, 'colsample_bytree': 1.0, 'colsample_bylevel': 0.7, 'min_child_weight': 5, 'max_depth': 9, 'max_delta_step': 2.1, 'learning_rate': 0.03655954414577704, 'n_estimators': 307, 'gamma': 14.700000000000001}. Best is trial 9 with value: 0.904200855599972.\n",
      "[I 2020-10-04 22:49:51,950] Trial 16 finished with value: 0.9522406900904691 and parameters: {'subsample': 0.9, 'colsample_bytree': 0.7, 'colsample_bylevel': 0.7, 'min_child_weight': 4, 'max_depth': 7, 'max_delta_step': 1.2000000000000002, 'learning_rate': 0.017963160780840995, 'n_estimators': 395, 'gamma': 2.3000000000000003}. Best is trial 16 with value: 0.9522406900904691.\n",
      "[I 2020-10-04 22:49:54,521] Trial 17 finished with value: 0.962479837295743 and parameters: {'subsample': 0.8, 'colsample_bytree': 0.6, 'colsample_bylevel': 0.7, 'min_child_weight': 3, 'max_depth': 7, 'max_delta_step': 0.8, 'learning_rate': 0.01683235455676525, 'n_estimators': 393, 'gamma': 2.5000000000000004}. Best is trial 17 with value: 0.962479837295743.\n",
      "[I 2020-10-04 22:49:56,857] Trial 18 finished with value: 0.8563714145451996 and parameters: {'subsample': 0.7000000000000001, 'colsample_bytree': 0.6, 'colsample_bylevel': 0.7, 'min_child_weight': 8, 'max_depth': 7, 'max_delta_step': 1.0, 'learning_rate': 0.014104854949472506, 'n_estimators': 419, 'gamma': 0.5}. Best is trial 17 with value: 0.962479837295743.\n",
      "[I 2020-10-04 22:49:59,272] Trial 19 finished with value: 0.9487691984010099 and parameters: {'subsample': 0.8, 'colsample_bytree': 0.7, 'colsample_bylevel': 0.6, 'min_child_weight': 4, 'max_depth': 6, 'max_delta_step': 0.6, 'learning_rate': 0.015058694959468436, 'n_estimators': 385, 'gamma': 0.8}. Best is trial 17 with value: 0.962479837295743.\n"
     ]
    },
    {
     "name": "stdout",
     "output_type": "stream",
     "text": [
      "2020-10-04 22:49:59,275 — dermclass_structured.processing.pipeline — INFO —tune_hyperparameters:84 — Finding hyperameters for XGBClassifier\n"
     ]
    },
    {
     "name": "stderr",
     "output_type": "stream",
     "text": [
      "[I 2020-10-04 22:49:59,278] A new study created in memory with name: XGBClassifier\n",
      "[I 2020-10-04 22:50:00,907] Trial 0 finished with value: 0.7670243355073989 and parameters: {'subsample': 0.4, 'colsample_bytree': 1.0, 'colsample_bylevel': 0.9, 'min_child_weight': 7, 'max_depth': 12, 'max_delta_step': 1.6, 'learning_rate': 0.011430983876313222, 'n_estimators': 187, 'gamma': 10.1}. Best is trial 0 with value: 0.7670243355073989.\n",
      "[I 2020-10-04 22:50:02,248] Trial 1 finished with value: 0.0 and parameters: {'subsample': 0.2, 'colsample_bytree': 0.9, 'colsample_bylevel': 0.6, 'min_child_weight': 12, 'max_depth': 8, 'max_delta_step': 0.1, 'learning_rate': 0.09822263016087535, 'n_estimators': 260, 'gamma': 9.2}. Best is trial 0 with value: 0.7670243355073989.\n",
      "[I 2020-10-04 22:50:03,934] Trial 2 finished with value: 0.0 and parameters: {'subsample': 0.6, 'colsample_bytree': 0.8, 'colsample_bylevel': 0.7, 'min_child_weight': 10, 'max_depth': 5, 'max_delta_step': 3.9000000000000004, 'learning_rate': 0.09621236402909387, 'n_estimators': 230, 'gamma': 25.800000000000004}. Best is trial 0 with value: 0.7670243355073989.\n",
      "[I 2020-10-04 22:50:06,909] Trial 3 finished with value: 0.0 and parameters: {'subsample': 0.7000000000000001, 'colsample_bytree': 0.8, 'colsample_bylevel': 0.6, 'min_child_weight': 14, 'max_depth': 4, 'max_delta_step': 3.9000000000000004, 'learning_rate': 0.010374477955901195, 'n_estimators': 485, 'gamma': 20.6}. Best is trial 0 with value: 0.7670243355073989.\n",
      "[I 2020-10-04 22:50:09,318] Trial 4 finished with value: 0.0 and parameters: {'subsample': 0.5, 'colsample_bytree': 0.6, 'colsample_bylevel': 0.8, 'min_child_weight': 15, 'max_depth': 5, 'max_delta_step': 9.1, 'learning_rate': 0.01814596135349025, 'n_estimators': 459, 'gamma': 22.700000000000003}. Best is trial 0 with value: 0.7670243355073989.\n",
      "[I 2020-10-04 22:50:11,221] Trial 5 finished with value: 0.0 and parameters: {'subsample': 0.5, 'colsample_bytree': 0.7, 'colsample_bylevel': 0.8, 'min_child_weight': 18, 'max_depth': 12, 'max_delta_step': 4.5, 'learning_rate': 0.024839922470497277, 'n_estimators': 369, 'gamma': 21.900000000000002}. Best is trial 0 with value: 0.7670243355073989.\n",
      "[I 2020-10-04 22:50:12,297] Trial 6 finished with value: 0.0 and parameters: {'subsample': 0.4, 'colsample_bytree': 0.8, 'colsample_bylevel': 0.8, 'min_child_weight': 8, 'max_depth': 7, 'max_delta_step': 3.9000000000000004, 'learning_rate': 0.01867880257107068, 'n_estimators': 152, 'gamma': 17.700000000000003}. Best is trial 0 with value: 0.7670243355073989.\n",
      "[I 2020-10-04 22:50:13,823] Trial 7 finished with value: 0.8562662178273371 and parameters: {'subsample': 1.0, 'colsample_bytree': 0.9, 'colsample_bylevel': 0.7, 'min_child_weight': 15, 'max_depth': 3, 'max_delta_step': 0.2, 'learning_rate': 0.026509496593643846, 'n_estimators': 228, 'gamma': 6.0}. Best is trial 7 with value: 0.8562662178273371.\n",
      "[I 2020-10-04 22:50:15,736] Trial 8 finished with value: 0.0 and parameters: {'subsample': 0.1, 'colsample_bytree': 1.0, 'colsample_bylevel': 0.9, 'min_child_weight': 3, 'max_depth': 5, 'max_delta_step': 7.8, 'learning_rate': 0.011858906685575274, 'n_estimators': 330, 'gamma': 19.6}. Best is trial 7 with value: 0.8562662178273371.\n",
      "[I 2020-10-04 22:50:17,858] Trial 9 finished with value: 0.8835822988989411 and parameters: {'subsample': 1.0, 'colsample_bytree': 1.0, 'colsample_bylevel': 0.8, 'min_child_weight': 1, 'max_depth': 9, 'max_delta_step': 3.2, 'learning_rate': 0.021143813626634367, 'n_estimators': 198, 'gamma': 17.8}. Best is trial 9 with value: 0.8835822988989411.\n",
      "[I 2020-10-04 22:50:19,102] Trial 10 finished with value: 0.0 and parameters: {'subsample': 1.0, 'colsample_bytree': 1.0, 'colsample_bylevel': 1.0, 'min_child_weight': 1, 'max_depth': 10, 'max_delta_step': 6.5, 'learning_rate': 0.05098689546777847, 'n_estimators': 107, 'gamma': 28.500000000000004}. Best is trial 9 with value: 0.8835822988989411.\n",
      "[I 2020-10-04 22:50:19,813] Trial 11 finished with value: 0.7740725156041798 and parameters: {'subsample': 1.0, 'colsample_bytree': 0.9, 'colsample_bylevel': 0.7, 'min_child_weight': 20, 'max_depth': 9, 'max_delta_step': 1.1, 'learning_rate': 0.04631771347207352, 'n_estimators': 105, 'gamma': 3.0000000000000004}. Best is trial 9 with value: 0.8835822988989411.\n",
      "[I 2020-10-04 22:50:21,088] Trial 12 finished with value: 0.8046496949295182 and parameters: {'subsample': 0.8, 'colsample_bytree': 0.9, 'colsample_bylevel': 0.7, 'min_child_weight': 17, 'max_depth': 10, 'max_delta_step': 2.2, 'learning_rate': 0.03471642191331205, 'n_estimators': 207, 'gamma': 0.8}. Best is trial 9 with value: 0.8835822988989411.\n",
      "[I 2020-10-04 22:50:23,549] Trial 13 finished with value: 0.0 and parameters: {'subsample': 0.9, 'colsample_bytree': 0.9, 'colsample_bylevel': 0.9, 'min_child_weight': 5, 'max_depth': 3, 'max_delta_step': 0.1, 'learning_rate': 0.02452535257189532, 'n_estimators': 294, 'gamma': 10.9}. Best is trial 9 with value: 0.8835822988989411.\n",
      "[I 2020-10-04 22:50:24,685] Trial 14 finished with value: 0.7670594010800196 and parameters: {'subsample': 1.0, 'colsample_bytree': 1.0, 'colsample_bylevel': 0.7, 'min_child_weight': 13, 'max_depth': 7, 'max_delta_step': 2.1, 'learning_rate': 0.016698719424695634, 'n_estimators': 157, 'gamma': 14.6}. Best is trial 9 with value: 0.8835822988989411.\n",
      "[I 2020-10-04 22:50:26,443] Trial 15 finished with value: 0.9110737078336489 and parameters: {'subsample': 0.8, 'colsample_bytree': 0.9, 'colsample_bylevel': 0.6, 'min_child_weight': 10, 'max_depth': 10, 'max_delta_step': 5.9, 'learning_rate': 0.035389753467293505, 'n_estimators': 265, 'gamma': 5.8}. Best is trial 15 with value: 0.9110737078336489.\n",
      "[I 2020-10-04 22:50:30,675] Trial 16 finished with value: 0.9144400028052457 and parameters: {'subsample': 0.7000000000000001, 'colsample_bytree': 0.7, 'colsample_bylevel': 1.0, 'min_child_weight': 1, 'max_depth': 11, 'max_delta_step': 5.5, 'learning_rate': 0.06130976015929285, 'n_estimators': 392, 'gamma': 15.1}. Best is trial 16 with value: 0.9144400028052457.\n",
      "[I 2020-10-04 22:50:33,660] Trial 17 finished with value: 0.9110035766884073 and parameters: {'subsample': 0.8, 'colsample_bytree': 0.6, 'colsample_bylevel': 1.0, 'min_child_weight': 4, 'max_depth': 11, 'max_delta_step': 6.3, 'learning_rate': 0.06881944571397876, 'n_estimators': 391, 'gamma': 13.6}. Best is trial 16 with value: 0.9144400028052457.\n",
      "[I 2020-10-04 22:50:36,224] Trial 18 finished with value: 0.9144750683778667 and parameters: {'subsample': 0.7000000000000001, 'colsample_bytree': 0.7, 'colsample_bylevel': 1.0, 'min_child_weight': 9, 'max_depth': 11, 'max_delta_step': 6.0, 'learning_rate': 0.07042835549381952, 'n_estimators': 422, 'gamma': 4.8}. Best is trial 18 with value: 0.9144750683778667.\n",
      "[I 2020-10-04 22:50:39,179] Trial 19 finished with value: 0.9041657900273511 and parameters: {'subsample': 0.6, 'colsample_bytree': 0.7, 'colsample_bylevel': 1.0, 'min_child_weight': 7, 'max_depth': 12, 'max_delta_step': 8.0, 'learning_rate': 0.07159281023403871, 'n_estimators': 433, 'gamma': 6.4}. Best is trial 18 with value: 0.9144750683778667.\n"
     ]
    },
    {
     "name": "stdout",
     "output_type": "stream",
     "text": [
      "2020-10-04 22:50:39,184 — dermclass_structured.processing.pipeline — INFO —tune_hyperparameters:100 — Best params found for: XGBRFClassifier with score: 0.962479837295743\n",
      "2020-10-04 22:50:39,876 — dermclass_structured.processing.pipeline — INFO —tune_hyperparameters:103 — Successfully tuned hyperparameters\n",
      "2020-10-04 22:50:39,879 — dermclass_structured.pickles.pickle_handling — INFO —remove_old_pipelines:35 — Start removing old pipelines\n",
      "2020-10-04 22:50:39,881 — dermclass_structured.pickles.pickle_handling — INFO —remove_old_pipelines:40 — C:\\Users\\Kajetan\\Desktop\\dermclass\\src\\dermclass_structured\\dermclass_structured\\pickles\\structured_pipeline_0.1.0.pkl removed\n",
      "2020-10-04 22:50:39,882 — dermclass_structured.pickles.pickle_handling — INFO —remove_old_pipelines:35 — Start removing old pipelines\n",
      "2020-10-04 22:50:39,908 — dermclass_structured.pickles.pickle_handling — INFO —save_pipeline:20 — Saved pipeline: structured_pipeline_0.1.0.pkl, to path: C:\\Users\\Kajetan\\Desktop\\dermclass\\src\\dermclass_structured\\dermclass_structured\\pickles\\structured_pipeline_0.1.0.pkl\n"
     ]
    }
   ],
   "source": [
    "# Train and save the pipeline\n",
    "run()"
   ]
  },
  {
   "cell_type": "code",
   "execution_count": 15,
   "metadata": {
    "collapsed": true,
    "jupyter": {
     "outputs_hidden": true
    }
   },
   "outputs": [
    {
     "name": "stdout",
     "output_type": "stream",
     "text": [
      "2020-10-04 22:51:38,443 — dermclass_structured.processing.validation — INFO —validate_inputs:20 — Successfully validated input data\n",
      "2020-10-04 22:51:38,457 — dermclass_structured.pickles.pickle_handling — INFO —load_pipeline:28 — structured_pipeline_0.1.0.pkl loaded\n",
      "2020-10-04 22:51:38,463 — dermclass_structured.processing.preprocessors — INFO —transform:59 — Successfully transformed variables\n",
      "2020-10-04 22:51:38,501 — dermclass_structured.predict — INFO —make_prediction:27 — Made predictions with model version: 0.1.0 Inputs:      erythema  scaling  definite_borders  itching  koebner_phenomenon  \\\n",
      "193         2        2                 2        0                   0   \n",
      "33          2        2                 1        0                   0   \n",
      "15          1        1                 0        1                   3   \n",
      "310         3        2                 2        0                   0   \n",
      "57          2        1                 1        3                   0   \n",
      "..        ...      ...               ...      ...                 ...   \n",
      "82          2        1                 1        2                   0   \n",
      "94          2        1                 1        3                   2   \n",
      "192         3        2                 2        2                   0   \n",
      "307         2        1                 2        1                   1   \n",
      "211         2        3                 2        0                   0   \n",
      "\n",
      "     polygonal_papules  follicular_papules  oral_mucosal_involvement  \\\n",
      "193                  0                   0                         0   \n",
      "33                   0                   0                         0   \n",
      "15                   0                   0                         0   \n",
      "310                  0                   0                         0   \n",
      "57                   3                   0                         1   \n",
      "..                 ...                 ...                       ...   \n",
      "82                   0                   0                         0   \n",
      "94                   2                   0                         2   \n",
      "192                  2                   0                         0   \n",
      "307                  0                   0                         0   \n",
      "211                  0                   0                         0   \n",
      "\n",
      "     knee_and_elbow_involvement  scalp_involvement  ...  \\\n",
      "193                           2                  2  ...   \n",
      "33                            1                  0  ...   \n",
      "15                            0                  0  ...   \n",
      "310                           0                  1  ...   \n",
      "57                            0                  0  ...   \n",
      "..                          ...                ...  ...   \n",
      "82                            0                  0  ...   \n",
      "94                            0                  0  ...   \n",
      "192                           0                  0  ...   \n",
      "307                           0                  0  ...   \n",
      "211                           3                  2  ...   \n",
      "\n",
      "     focal_hypergranulosis  disappearance_of_the_granular_layer  \\\n",
      "193                      0                                    2   \n",
      "33                       0                                    0   \n",
      "15                       0                                    0   \n",
      "310                      0                                    2   \n",
      "57                       1                                    0   \n",
      "..                     ...                                  ...   \n",
      "82                       0                                    0   \n",
      "94                       2                                    0   \n",
      "192                      2                                    0   \n",
      "307                      0                                    1   \n",
      "211                      0                                    0   \n",
      "\n",
      "     vacuolisation_and_damage_of_basal_layer  spongiosis  \\\n",
      "193                                        0           0   \n",
      "33                                         0           0   \n",
      "15                                         0           2   \n",
      "310                                        0           0   \n",
      "57                                         3           0   \n",
      "..                                       ...         ...   \n",
      "82                                         0           3   \n",
      "94                                         3           0   \n",
      "192                                        3           0   \n",
      "307                                        0           3   \n",
      "211                                        0           0   \n",
      "\n",
      "     saw-tooth_appearance_of_retes  follicular_horn_plug  \\\n",
      "193                              0                     0   \n",
      "33                               0                     0   \n",
      "15                               0                     0   \n",
      "310                              0                     0   \n",
      "57                               1                     0   \n",
      "..                             ...                   ...   \n",
      "82                               0                     0   \n",
      "94                               2                     0   \n",
      "192                              2                     0   \n",
      "307                              0                     0   \n",
      "211                              0                     0   \n",
      "\n",
      "     perifollicular_parakeratosis  inflammatory_monoluclear_inflitrate  \\\n",
      "193                             0                                    2   \n",
      "33                              0                                    0   \n",
      "15                              0                                    2   \n",
      "310                             0                                    2   \n",
      "57                              0                                    2   \n",
      "..                            ...                                  ...   \n",
      "82                              0                                    3   \n",
      "94                              0                                    3   \n",
      "192                             0                                    3   \n",
      "307                             0                                    2   \n",
      "211                             0                                    1   \n",
      "\n",
      "     band-like_infiltrate   age  \n",
      "193                     0  18.0  \n",
      "33                      0   NaN  \n",
      "15                      0  40.0  \n",
      "310                     0  50.0  \n",
      "57                      2  29.0  \n",
      "..                    ...   ...  \n",
      "82                      0  27.0  \n",
      "94                      3  22.0  \n",
      "192                     3  25.0  \n",
      "307                     0  55.0  \n",
      "211                     0  70.0  \n",
      "\n",
      "[74 rows x 34 columns] Predictions: [1 1 4 1 3 1 2 1 1 6 3 1 1 1 2 3 2 1 1 5 4 1 3 3 1 2 4 1 1 4 1 3 1 5 3 3 1\n",
      " 5 6 4 1 2 1 5 1 1 2 2 2 3 1 2 1 5 1 5 1 1 2 1 1 3 2 4 5 5 5 1 5 2 3 3 4 1]\n"
     ]
    },
    {
     "data": {
      "text/plain": [
       "array([1, 1, 4, 1, 3, 1, 2, 1, 1, 6, 3, 1, 1, 1, 2, 3, 2, 1, 1, 5, 4, 1,\n",
       "       3, 3, 1, 2, 4, 1, 1, 4, 1, 3, 1, 5, 3, 3, 1, 5, 6, 4, 1, 2, 1, 5,\n",
       "       1, 1, 2, 2, 2, 3, 1, 2, 1, 5, 1, 5, 1, 1, 2, 1, 1, 3, 2, 4, 5, 5,\n",
       "       5, 1, 5, 2, 3, 3, 4, 1], dtype=int64)"
      ]
     },
     "execution_count": 15,
     "metadata": {},
     "output_type": "execute_result"
    }
   ],
   "source": [
    "make_prediction(x_test)"
   ]
  },
  {
   "cell_type": "markdown",
   "metadata": {},
   "source": [
    "### Evaluate results"
   ]
  },
  {
   "cell_type": "code",
   "execution_count": 12,
   "metadata": {},
   "outputs": [
    {
     "name": "stdout",
     "output_type": "stream",
     "text": [
      "0.9594594594594594\n"
     ]
    }
   ],
   "source": [
    "print(accuracy_score(y_test, predictions))"
   ]
  },
  {
   "cell_type": "code",
   "execution_count": 13,
   "metadata": {},
   "outputs": [
    {
     "name": "stdout",
     "output_type": "stream",
     "text": [
      "[[31  0  0  0  0  0]\n",
      " [ 0  9  0  0  0  0]\n",
      " [ 0  1 12  0  0  0]\n",
      " [ 0  1  0  7  0  0]\n",
      " [ 0  0  0  0 10  0]\n",
      " [ 0  1  0  0  0  2]]\n"
     ]
    }
   ],
   "source": [
    "print(confusion_matrix(y_test, predictions))"
   ]
  },
  {
   "cell_type": "code",
   "execution_count": 14,
   "metadata": {},
   "outputs": [
    {
     "name": "stdout",
     "output_type": "stream",
     "text": [
      "              precision    recall  f1-score   support\n",
      "\n",
      "           1       1.00      1.00      1.00        31\n",
      "           2       0.75      1.00      0.86         9\n",
      "           3       1.00      0.92      0.96        13\n",
      "           4       1.00      0.88      0.93         8\n",
      "           5       1.00      1.00      1.00        10\n",
      "           6       1.00      0.67      0.80         3\n",
      "\n",
      "    accuracy                           0.96        74\n",
      "   macro avg       0.96      0.91      0.93        74\n",
      "weighted avg       0.97      0.96      0.96        74\n",
      "\n"
     ]
    }
   ],
   "source": [
    "print(classification_report(y_test, predictions))"
   ]
  },
  {
   "cell_type": "code",
   "execution_count": null,
   "metadata": {},
   "outputs": [],
   "source": []
  }
 ],
 "metadata": {
  "kernelspec": {
   "display_name": "Python 3",
   "language": "python",
   "name": "python3"
  },
  "language_info": {
   "codemirror_mode": {
    "name": "ipython",
    "version": 3
   },
   "file_extension": ".py",
   "mimetype": "text/x-python",
   "name": "python",
   "nbconvert_exporter": "python",
   "pygments_lexer": "ipython3",
   "version": "3.7.9"
  },
  "pycharm": {
   "stem_cell": {
    "cell_type": "raw",
    "metadata": {
     "collapsed": false
    },
    "source": []
   }
  }
 },
 "nbformat": 4,
 "nbformat_minor": 4
}
