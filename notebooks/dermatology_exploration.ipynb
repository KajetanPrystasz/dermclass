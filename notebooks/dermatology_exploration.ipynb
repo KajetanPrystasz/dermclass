{
 "cells": [
  {
   "cell_type": "markdown",
   "metadata": {},
   "source": [
    "### Imports"
   ]
  },
  {
   "cell_type": "code",
   "execution_count": 8,
   "metadata": {},
   "outputs": [],
   "source": [
    "import numpy as np\n",
    "import pandas as pd\n",
    "import seaborn as sns\n",
    "\n",
    "from sklearn.model_selection import train_test_split\n",
    "from sklearn.metrics import accuracy_score, confusion_matrix, classification_report\n",
    "\n",
    "from dermclass_structured.train_pipeline import run\n",
    "from dermclass_structured.predict import make_prediction"
   ]
  },
  {
   "cell_type": "markdown",
   "metadata": {},
   "source": [
    "### Initial EDA (To be extended)"
   ]
  },
  {
   "cell_type": "code",
   "execution_count": 9,
   "metadata": {
    "collapsed": false,
    "jupyter": {
     "outputs_hidden": false
    },
    "pycharm": {
     "name": "#%%\n"
    }
   },
   "outputs": [
    {
     "name": "stdout",
     "output_type": "stream",
     "text": [
      "Index(['erythema', 'scaling', 'definite_borders', 'itching',\n",
      "       'koebner_phenomenon', 'polygonal_papules', 'follicular_papules',\n",
      "       'oral_mucosal_involvement', 'knee_and_elbow_involvement',\n",
      "       'scalp_involvement', 'family_history', 'melanin_incontinence',\n",
      "       'eosinophils_in_the_infiltrate', 'pnl_infiltrate',\n",
      "       'fibrosis_of_the_papillary_dermis', 'exocytosis', 'acanthosis',\n",
      "       'hyperkeratosis', 'parakeratosis', 'clubbing_of_the_rete_ridges',\n",
      "       'elongation_of_the_rete_ridges',\n",
      "       'thinning_of_the_suprapapillary_epidermis', 'spongiform_pustule',\n",
      "       'munro_microabcess', 'focal_hypergranulosis',\n",
      "       'disappearance_of_the_granular_layer',\n",
      "       'vacuolisation_and_damage_of_basal_layer', 'spongiosis',\n",
      "       'saw_tooth_appearance_of_retes', 'follicular_horn_plug',\n",
      "       'perifollicular_parakeratosis', 'inflammatory_monoluclear_inflitrate',\n",
      "       'band_like_infiltrate', 'age', 'target'],\n",
      "      dtype='object')\n"
     ]
    },
    {
     "data": {
      "text/html": [
       "<div>\n",
       "<style scoped>\n",
       "    .dataframe tbody tr th:only-of-type {\n",
       "        vertical-align: middle;\n",
       "    }\n",
       "\n",
       "    .dataframe tbody tr th {\n",
       "        vertical-align: top;\n",
       "    }\n",
       "\n",
       "    .dataframe thead th {\n",
       "        text-align: right;\n",
       "    }\n",
       "</style>\n",
       "<table border=\"1\" class=\"dataframe\">\n",
       "  <thead>\n",
       "    <tr style=\"text-align: right;\">\n",
       "      <th></th>\n",
       "      <th>erythema</th>\n",
       "      <th>scaling</th>\n",
       "      <th>definite_borders</th>\n",
       "      <th>itching</th>\n",
       "      <th>koebner_phenomenon</th>\n",
       "      <th>polygonal_papules</th>\n",
       "      <th>follicular_papules</th>\n",
       "      <th>oral_mucosal_involvement</th>\n",
       "      <th>knee_and_elbow_involvement</th>\n",
       "      <th>scalp_involvement</th>\n",
       "      <th>...</th>\n",
       "      <th>disappearance_of_the_granular_layer</th>\n",
       "      <th>vacuolisation_and_damage_of_basal_layer</th>\n",
       "      <th>spongiosis</th>\n",
       "      <th>saw_tooth_appearance_of_retes</th>\n",
       "      <th>follicular_horn_plug</th>\n",
       "      <th>perifollicular_parakeratosis</th>\n",
       "      <th>inflammatory_monoluclear_inflitrate</th>\n",
       "      <th>band_like_infiltrate</th>\n",
       "      <th>age</th>\n",
       "      <th>target</th>\n",
       "    </tr>\n",
       "  </thead>\n",
       "  <tbody>\n",
       "    <tr>\n",
       "      <th>0</th>\n",
       "      <td>2</td>\n",
       "      <td>2</td>\n",
       "      <td>0</td>\n",
       "      <td>3</td>\n",
       "      <td>0</td>\n",
       "      <td>0</td>\n",
       "      <td>0</td>\n",
       "      <td>0</td>\n",
       "      <td>1</td>\n",
       "      <td>0</td>\n",
       "      <td>...</td>\n",
       "      <td>0</td>\n",
       "      <td>0</td>\n",
       "      <td>3</td>\n",
       "      <td>0</td>\n",
       "      <td>0</td>\n",
       "      <td>0</td>\n",
       "      <td>1</td>\n",
       "      <td>0</td>\n",
       "      <td>55.0</td>\n",
       "      <td>2</td>\n",
       "    </tr>\n",
       "    <tr>\n",
       "      <th>1</th>\n",
       "      <td>3</td>\n",
       "      <td>3</td>\n",
       "      <td>3</td>\n",
       "      <td>2</td>\n",
       "      <td>1</td>\n",
       "      <td>0</td>\n",
       "      <td>0</td>\n",
       "      <td>0</td>\n",
       "      <td>1</td>\n",
       "      <td>1</td>\n",
       "      <td>...</td>\n",
       "      <td>0</td>\n",
       "      <td>0</td>\n",
       "      <td>0</td>\n",
       "      <td>0</td>\n",
       "      <td>0</td>\n",
       "      <td>0</td>\n",
       "      <td>1</td>\n",
       "      <td>0</td>\n",
       "      <td>8.0</td>\n",
       "      <td>1</td>\n",
       "    </tr>\n",
       "    <tr>\n",
       "      <th>2</th>\n",
       "      <td>2</td>\n",
       "      <td>1</td>\n",
       "      <td>2</td>\n",
       "      <td>3</td>\n",
       "      <td>1</td>\n",
       "      <td>3</td>\n",
       "      <td>0</td>\n",
       "      <td>3</td>\n",
       "      <td>0</td>\n",
       "      <td>0</td>\n",
       "      <td>...</td>\n",
       "      <td>0</td>\n",
       "      <td>2</td>\n",
       "      <td>3</td>\n",
       "      <td>2</td>\n",
       "      <td>0</td>\n",
       "      <td>0</td>\n",
       "      <td>2</td>\n",
       "      <td>3</td>\n",
       "      <td>26.0</td>\n",
       "      <td>3</td>\n",
       "    </tr>\n",
       "    <tr>\n",
       "      <th>3</th>\n",
       "      <td>2</td>\n",
       "      <td>2</td>\n",
       "      <td>2</td>\n",
       "      <td>0</td>\n",
       "      <td>0</td>\n",
       "      <td>0</td>\n",
       "      <td>0</td>\n",
       "      <td>0</td>\n",
       "      <td>3</td>\n",
       "      <td>2</td>\n",
       "      <td>...</td>\n",
       "      <td>3</td>\n",
       "      <td>0</td>\n",
       "      <td>0</td>\n",
       "      <td>0</td>\n",
       "      <td>0</td>\n",
       "      <td>0</td>\n",
       "      <td>3</td>\n",
       "      <td>0</td>\n",
       "      <td>40.0</td>\n",
       "      <td>1</td>\n",
       "    </tr>\n",
       "    <tr>\n",
       "      <th>4</th>\n",
       "      <td>2</td>\n",
       "      <td>3</td>\n",
       "      <td>2</td>\n",
       "      <td>2</td>\n",
       "      <td>2</td>\n",
       "      <td>2</td>\n",
       "      <td>0</td>\n",
       "      <td>2</td>\n",
       "      <td>0</td>\n",
       "      <td>0</td>\n",
       "      <td>...</td>\n",
       "      <td>2</td>\n",
       "      <td>3</td>\n",
       "      <td>2</td>\n",
       "      <td>3</td>\n",
       "      <td>0</td>\n",
       "      <td>0</td>\n",
       "      <td>2</td>\n",
       "      <td>3</td>\n",
       "      <td>45.0</td>\n",
       "      <td>3</td>\n",
       "    </tr>\n",
       "  </tbody>\n",
       "</table>\n",
       "<p>5 rows × 35 columns</p>\n",
       "</div>"
      ],
      "text/plain": [
       "   erythema  scaling  definite_borders  itching  koebner_phenomenon  \\\n",
       "0         2        2                 0        3                   0   \n",
       "1         3        3                 3        2                   1   \n",
       "2         2        1                 2        3                   1   \n",
       "3         2        2                 2        0                   0   \n",
       "4         2        3                 2        2                   2   \n",
       "\n",
       "   polygonal_papules  follicular_papules  oral_mucosal_involvement  \\\n",
       "0                  0                   0                         0   \n",
       "1                  0                   0                         0   \n",
       "2                  3                   0                         3   \n",
       "3                  0                   0                         0   \n",
       "4                  2                   0                         2   \n",
       "\n",
       "   knee_and_elbow_involvement  scalp_involvement  ...  \\\n",
       "0                           1                  0  ...   \n",
       "1                           1                  1  ...   \n",
       "2                           0                  0  ...   \n",
       "3                           3                  2  ...   \n",
       "4                           0                  0  ...   \n",
       "\n",
       "   disappearance_of_the_granular_layer  \\\n",
       "0                                    0   \n",
       "1                                    0   \n",
       "2                                    0   \n",
       "3                                    3   \n",
       "4                                    2   \n",
       "\n",
       "   vacuolisation_and_damage_of_basal_layer  spongiosis  \\\n",
       "0                                        0           3   \n",
       "1                                        0           0   \n",
       "2                                        2           3   \n",
       "3                                        0           0   \n",
       "4                                        3           2   \n",
       "\n",
       "   saw_tooth_appearance_of_retes  follicular_horn_plug  \\\n",
       "0                              0                     0   \n",
       "1                              0                     0   \n",
       "2                              2                     0   \n",
       "3                              0                     0   \n",
       "4                              3                     0   \n",
       "\n",
       "   perifollicular_parakeratosis  inflammatory_monoluclear_inflitrate  \\\n",
       "0                             0                                    1   \n",
       "1                             0                                    1   \n",
       "2                             0                                    2   \n",
       "3                             0                                    3   \n",
       "4                             0                                    2   \n",
       "\n",
       "   band_like_infiltrate   age  target  \n",
       "0                     0  55.0       2  \n",
       "1                     0   8.0       1  \n",
       "2                     3  26.0       3  \n",
       "3                     0  40.0       1  \n",
       "4                     3  45.0       3  \n",
       "\n",
       "[5 rows x 35 columns]"
      ]
     },
     "execution_count": 9,
     "metadata": {},
     "output_type": "execute_result"
    }
   ],
   "source": [
    "df = pd.read_csv(\"../src/dermclass_structured/dermclass_structured/datasets/dermatology_dataset.csv\")\n",
    "print(df.columns)\n",
    "df.head()"
   ]
  },
  {
   "cell_type": "code",
   "execution_count": 10,
   "metadata": {},
   "outputs": [
    {
     "data": {
      "text/plain": [
       "erythema                                    0\n",
       "scaling                                     0\n",
       "definite_borders                            0\n",
       "itching                                     0\n",
       "koebner_phenomenon                          0\n",
       "polygonal_papules                           0\n",
       "follicular_papules                          0\n",
       "oral_mucosal_involvement                    0\n",
       "knee_and_elbow_involvement                  0\n",
       "scalp_involvement                           0\n",
       "family_history                              0\n",
       "melanin_incontinence                        0\n",
       "eosinophils_in_the_infiltrate               0\n",
       "pnl_infiltrate                              0\n",
       "fibrosis_of_the_papillary_dermis            0\n",
       "exocytosis                                  0\n",
       "acanthosis                                  0\n",
       "hyperkeratosis                              0\n",
       "parakeratosis                               0\n",
       "clubbing_of_the_rete_ridges                 0\n",
       "elongation_of_the_rete_ridges               0\n",
       "thinning_of_the_suprapapillary_epidermis    0\n",
       "spongiform_pustule                          0\n",
       "munro_microabcess                           0\n",
       "focal_hypergranulosis                       0\n",
       "disappearance_of_the_granular_layer         0\n",
       "vacuolisation_and_damage_of_basal_layer     0\n",
       "spongiosis                                  0\n",
       "saw_tooth_appearance_of_retes               0\n",
       "follicular_horn_plug                        0\n",
       "perifollicular_parakeratosis                0\n",
       "inflammatory_monoluclear_inflitrate         0\n",
       "band_like_infiltrate                        0\n",
       "age                                         8\n",
       "target                                      0\n",
       "dtype: int64"
      ]
     },
     "execution_count": 10,
     "metadata": {},
     "output_type": "execute_result"
    }
   ],
   "source": [
    "df.isnull().sum()"
   ]
  },
  {
   "cell_type": "code",
   "execution_count": 11,
   "metadata": {},
   "outputs": [],
   "source": [
    "x = df.drop(\"target\", 1)\n",
    "y = df[\"target\"]\n",
    "x_train, x_test, y_train, y_test = train_test_split(x, y, test_size=0.2, random_state=42)"
   ]
  },
  {
   "cell_type": "code",
   "execution_count": 12,
   "metadata": {},
   "outputs": [
    {
     "name": "stderr",
     "output_type": "stream",
     "text": [
      "C:\\Users\\Kajetan\\Anaconda3\\envs\\dermclass_api\\lib\\site-packages\\seaborn\\_decorators.py:43: FutureWarning: Pass the following variable as a keyword arg: x. From version 0.12, the only valid positional argument will be `data`, and passing other arguments without an explicit keyword will result in an error or misinterpretation.\n",
      "  FutureWarning\n"
     ]
    },
    {
     "data": {
      "text/plain": [
       "<AxesSubplot:xlabel='target', ylabel='count'>"
      ]
     },
     "execution_count": 12,
     "metadata": {},
     "output_type": "execute_result"
    },
    {
     "data": {
      "image/png": "[encoded data removed]",
      "text/plain": [
       "<Figure size 432x288 with 1 Axes>"
      ]
     },
     "metadata": {
      "needs_background": "light"
     },
     "output_type": "display_data"
    }
   ],
   "source": [
    "sns.countplot(y)"
   ]
  },
  {
   "cell_type": "markdown",
   "metadata": {},
   "source": [
    "### Example of helper functions"
   ]
  },
  {
   "cell_type": "code",
   "execution_count": 13,
   "metadata": {},
   "outputs": [],
   "source": [
    "# Will be added in the future"
   ]
  },
  {
   "cell_type": "markdown",
   "metadata": {},
   "source": [
    "### Example of 2 main functions"
   ]
  },
  {
   "cell_type": "code",
   "execution_count": 14,
   "metadata": {
    "scrolled": true
   },
   "outputs": [
    {
     "name": "stdout",
     "output_type": "stream",
     "text": [
      "2020-10-17 11:59:36,353 — dermclass_structured.train_pipeline — INFO —run:15 — Started training the pipeline\n",
      "2020-10-17 11:59:36,358 — dermclass_structured.processing.preprocessors — INFO —split_target:16 — Successfully splat the data\n",
      "2020-10-17 11:59:36,358 — dermclass_structured.processing.preprocessors — INFO —load_data:25 — Successfully loaded the data\n",
      "2020-10-17 11:59:36,364 — dermclass_structured.processing.preprocessors — INFO —transform:59 — Successfully transformed variables\n",
      "2020-10-17 11:59:36,416 — dermclass_structured.processing.pipeline — WARNING —fit_ppc_pipeline:46 — Index(['erythema', 'scaling', 'definite_borders', 'itching',\n",
      "       'koebner_phenomenon', 'polygonal_papules', 'follicular_papules',\n",
      "       'oral_mucosal_involvement', 'knee_and_elbow_involvement',\n",
      "       'scalp_involvement', 'family_history', 'melanin_incontinence',\n",
      "       'eosinophils_in_the_infiltrate', 'pnl_infiltrate',\n",
      "       'fibrosis_of_the_papillary_dermis', 'exocytosis', 'acanthosis',\n",
      "       'hyperkeratosis', 'parakeratosis', 'clubbing_of_the_rete_ridges',\n",
      "       'elongation_of_the_rete_ridges',\n",
      "       'thinning_of_the_suprapapillary_epidermis', 'spongiform_pustule',\n",
      "       'munro_microabcess', 'focal_hypergranulosis',\n",
      "       'disappearance_of_the_granular_layer',\n",
      "       'vacuolisation_and_damage_of_basal_layer', 'spongiosis',\n",
      "       'saw_tooth_appearance_of_retes', 'follicular_horn_plug',\n",
      "       'perifollicular_parakeratosis', 'inflammatory_monoluclear_inflitrate',\n",
      "       'band_like_infiltrate', 'age'],\n",
      "      dtype='object')\n",
      "2020-10-17 11:59:36,418 — dermclass_structured.processing.pipeline — INFO —fit_ppc_pipeline:47 — Successfully fitted the preprocessing pipeline\n",
      "2020-10-17 11:59:36,424 — dermclass_structured.processing.preprocessors — INFO —transform:59 — Successfully transformed variables\n",
      "2020-10-17 11:59:36,452 — dermclass_structured.processing.preprocessors — INFO —transform:59 — Successfully transformed variables\n",
      "2020-10-17 11:59:36,466 — dermclass_structured.processing.pipeline — INFO —tune_hyperparameters:86 — Finding hyperameters for XGBRFClassifier\n"
     ]
    },
    {
     "name": "stderr",
     "output_type": "stream",
     "text": [
      "\u001b[32m[I 2020-10-17 11:59:36,469]\u001b[0m A new study created in memory with name: XGBRFClassifier\u001b[0m\n",
      "\u001b[32m[I 2020-10-17 11:59:37,527]\u001b[0m Trial 0 finished with value: 0.5855950627673749 and parameters: {'subsample': 0.4, 'colsample_bytree': 1.0, 'colsample_bylevel': 0.9, 'min_child_weight': 7, 'max_depth': 12, 'max_delta_step': 1.6, 'learning_rate': 0.011430983876313222, 'n_estimators': 187, 'gamma': 10.1}. Best is trial 0 with value: 0.5855950627673749.\u001b[0m\n",
      "\u001b[32m[I 2020-10-17 11:59:38,238]\u001b[0m Trial 1 finished with value: 0.0 and parameters: {'subsample': 0.2, 'colsample_bytree': 0.9, 'colsample_bylevel': 0.6, 'min_child_weight': 12, 'max_depth': 8, 'max_delta_step': 0.1, 'learning_rate': 0.09822263016087535, 'n_estimators': 260, 'gamma': 9.2}. Best is trial 0 with value: 0.5855950627673749.\u001b[0m\n",
      "\u001b[32m[I 2020-10-17 11:59:39,370]\u001b[0m Trial 2 finished with value: 0.47945157444421066 and parameters: {'subsample': 0.6, 'colsample_bytree': 0.8, 'colsample_bylevel': 0.7, 'min_child_weight': 10, 'max_depth': 5, 'max_delta_step': 3.9000000000000004, 'learning_rate': 0.09621236402909387, 'n_estimators': 230, 'gamma': 25.800000000000004}. Best is trial 0 with value: 0.5855950627673749.\u001b[0m\n",
      "\u001b[32m[I 2020-10-17 11:59:41,484]\u001b[0m Trial 3 finished with value: 0.4760151483273722 and parameters: {'subsample': 0.7000000000000001, 'colsample_bytree': 0.8, 'colsample_bylevel': 0.6, 'min_child_weight': 14, 'max_depth': 4, 'max_delta_step': 3.9000000000000004, 'learning_rate': 0.010374477955901195, 'n_estimators': 485, 'gamma': 20.6}. Best is trial 0 with value: 0.5855950627673749.\u001b[0m\n",
      "\u001b[32m[I 2020-10-17 11:59:42,900]\u001b[0m Trial 4 finished with value: 0.0 and parameters: {'subsample': 0.5, 'colsample_bytree': 0.6, 'colsample_bylevel': 0.8, 'min_child_weight': 15, 'max_depth': 5, 'max_delta_step': 9.1, 'learning_rate': 0.01814596135349025, 'n_estimators': 459, 'gamma': 22.700000000000003}. Best is trial 0 with value: 0.5855950627673749.\u001b[0m\n",
      "\u001b[32m[I 2020-10-17 11:59:44,074]\u001b[0m Trial 5 finished with value: 0.2774037450031559 and parameters: {'subsample': 0.5, 'colsample_bytree': 0.7, 'colsample_bylevel': 0.8, 'min_child_weight': 18, 'max_depth': 12, 'max_delta_step': 4.5, 'learning_rate': 0.024839922470497277, 'n_estimators': 369, 'gamma': 21.900000000000002}. Best is trial 0 with value: 0.5855950627673749.\u001b[0m\n",
      "\u001b[32m[I 2020-10-17 11:59:44,806]\u001b[0m Trial 6 finished with value: 0.0 and parameters: {'subsample': 0.4, 'colsample_bytree': 0.8, 'colsample_bylevel': 0.8, 'min_child_weight': 8, 'max_depth': 7, 'max_delta_step': 3.9000000000000004, 'learning_rate': 0.01867880257107068, 'n_estimators': 152, 'gamma': 17.700000000000003}. Best is trial 0 with value: 0.5855950627673749.\u001b[0m\n",
      "\u001b[32m[I 2020-10-17 11:59:45,761]\u001b[0m Trial 7 finished with value: 0.7157584683357879 and parameters: {'subsample': 1.0, 'colsample_bytree': 0.9, 'colsample_bylevel': 0.7, 'min_child_weight': 15, 'max_depth': 3, 'max_delta_step': 0.2, 'learning_rate': 0.026509496593643846, 'n_estimators': 228, 'gamma': 6.0}. Best is trial 7 with value: 0.7157584683357879.\u001b[0m\n",
      "\u001b[32m[I 2020-10-17 11:59:46,938]\u001b[0m Trial 8 finished with value: 0.0 and parameters: {'subsample': 0.1, 'colsample_bytree': 1.0, 'colsample_bylevel': 0.9, 'min_child_weight': 3, 'max_depth': 5, 'max_delta_step': 7.8, 'learning_rate': 0.011858906685575274, 'n_estimators': 330, 'gamma': 19.6}. Best is trial 7 with value: 0.7157584683357879.\u001b[0m\n",
      "\u001b[32m[I 2020-10-17 11:59:48,631]\u001b[0m Trial 9 finished with value: 0.904200855599972 and parameters: {'subsample': 1.0, 'colsample_bytree': 1.0, 'colsample_bylevel': 0.8, 'min_child_weight': 1, 'max_depth': 9, 'max_delta_step': 3.2, 'learning_rate': 0.021143813626634367, 'n_estimators': 198, 'gamma': 17.8}. Best is trial 9 with value: 0.904200855599972.\u001b[0m\n",
      "\u001b[32m[I 2020-10-17 11:59:49,602]\u001b[0m Trial 10 finished with value: 0.8835822988989411 and parameters: {'subsample': 1.0, 'colsample_bytree': 1.0, 'colsample_bylevel': 1.0, 'min_child_weight': 1, 'max_depth': 10, 'max_delta_step': 6.5, 'learning_rate': 0.05098689546777847, 'n_estimators': 107, 'gamma': 28.500000000000004}. Best is trial 9 with value: 0.904200855599972.\u001b[0m\n",
      "\u001b[32m[I 2020-10-17 11:59:50,454]\u001b[0m Trial 11 finished with value: 0.0 and parameters: {'subsample': 1.0, 'colsample_bytree': 1.0, 'colsample_bylevel': 1.0, 'min_child_weight': 2, 'max_depth': 10, 'max_delta_step': 6.6, 'learning_rate': 0.05824149738886277, 'n_estimators': 103, 'gamma': 29.500000000000004}. Best is trial 9 with value: 0.904200855599972.\u001b[0m\n",
      "\u001b[32m[I 2020-10-17 11:59:51,341]\u001b[0m Trial 12 finished with value: 0.8834771021810787 and parameters: {'subsample': 0.8, 'colsample_bytree': 0.9, 'colsample_bylevel': 1.0, 'min_child_weight': 1, 'max_depth': 10, 'max_delta_step': 6.2, 'learning_rate': 0.04751246814207066, 'n_estimators': 102, 'gamma': 29.900000000000002}. Best is trial 9 with value: 0.904200855599972.\u001b[0m\n",
      "\u001b[32m[I 2020-10-17 11:59:52,424]\u001b[0m Trial 13 finished with value: 0.8871239217336419 and parameters: {'subsample': 0.9, 'colsample_bytree': 1.0, 'colsample_bylevel': 0.9, 'min_child_weight': 5, 'max_depth': 10, 'max_delta_step': 2.2, 'learning_rate': 0.04451730529198163, 'n_estimators': 154, 'gamma': 13.9}. Best is trial 9 with value: 0.904200855599972.\u001b[0m\n",
      "\u001b[32m[I 2020-10-17 11:59:53,562]\u001b[0m Trial 14 finished with value: 0.8870537905884003 and parameters: {'subsample': 0.8, 'colsample_bytree': 0.9, 'colsample_bylevel': 0.9, 'min_child_weight': 5, 'max_depth': 8, 'max_delta_step': 2.3000000000000003, 'learning_rate': 0.03306444897668001, 'n_estimators': 169, 'gamma': 13.700000000000001}. Best is trial 9 with value: 0.904200855599972.\u001b[0m\n",
      "\u001b[32m[I 2020-10-17 11:59:55,431]\u001b[0m Trial 15 finished with value: 0.8939967739673188 and parameters: {'subsample': 0.9, 'colsample_bytree': 1.0, 'colsample_bylevel': 0.7, 'min_child_weight': 5, 'max_depth': 9, 'max_delta_step': 2.1, 'learning_rate': 0.03655954414577704, 'n_estimators': 307, 'gamma': 14.700000000000001}. Best is trial 9 with value: 0.904200855599972.\u001b[0m\n",
      "\u001b[32m[I 2020-10-17 11:59:57,705]\u001b[0m Trial 16 finished with value: 0.9522406900904691 and parameters: {'subsample': 0.9, 'colsample_bytree': 0.7, 'colsample_bylevel': 0.7, 'min_child_weight': 4, 'max_depth': 7, 'max_delta_step': 1.2000000000000002, 'learning_rate': 0.017963160780840995, 'n_estimators': 395, 'gamma': 2.3000000000000003}. Best is trial 16 with value: 0.9522406900904691.\u001b[0m\n",
      "\u001b[32m[I 2020-10-17 11:59:59,926]\u001b[0m Trial 17 finished with value: 0.962479837295743 and parameters: {'subsample': 0.8, 'colsample_bytree': 0.6, 'colsample_bylevel': 0.7, 'min_child_weight': 3, 'max_depth': 7, 'max_delta_step': 0.8, 'learning_rate': 0.01683235455676525, 'n_estimators': 393, 'gamma': 2.5000000000000004}. Best is trial 17 with value: 0.962479837295743.\u001b[0m\n",
      "\u001b[32m[I 2020-10-17 12:00:02,355]\u001b[0m Trial 18 finished with value: 0.8563714145451996 and parameters: {'subsample': 0.7000000000000001, 'colsample_bytree': 0.6, 'colsample_bylevel': 0.7, 'min_child_weight': 8, 'max_depth': 7, 'max_delta_step': 1.0, 'learning_rate': 0.014104854949472506, 'n_estimators': 419, 'gamma': 0.5}. Best is trial 17 with value: 0.962479837295743.\u001b[0m\n",
      "\u001b[32m[I 2020-10-17 12:00:04,787]\u001b[0m Trial 19 finished with value: 0.9487691984010099 and parameters: {'subsample': 0.8, 'colsample_bytree': 0.7, 'colsample_bylevel': 0.6, 'min_child_weight': 4, 'max_depth': 6, 'max_delta_step': 0.6, 'learning_rate': 0.015058694959468436, 'n_estimators': 385, 'gamma': 0.8}. Best is trial 17 with value: 0.962479837295743.\u001b[0m\n"
     ]
    },
    {
     "name": "stdout",
     "output_type": "stream",
     "text": [
      "2020-10-17 12:00:04,789 — dermclass_structured.processing.pipeline — INFO —tune_hyperparameters:86 — Finding hyperameters for XGBClassifier\n"
     ]
    },
    {
     "name": "stderr",
     "output_type": "stream",
     "text": [
      "\u001b[32m[I 2020-10-17 12:00:04,791]\u001b[0m A new study created in memory with name: XGBClassifier\u001b[0m\n",
      "\u001b[32m[I 2020-10-17 12:00:06,263]\u001b[0m Trial 0 finished with value: 0.7670243355073989 and parameters: {'subsample': 0.4, 'colsample_bytree': 1.0, 'colsample_bylevel': 0.9, 'min_child_weight': 7, 'max_depth': 12, 'max_delta_step': 1.6, 'learning_rate': 0.011430983876313222, 'n_estimators': 187, 'gamma': 10.1}. Best is trial 0 with value: 0.7670243355073989.\u001b[0m\n",
      "\u001b[32m[I 2020-10-17 12:00:07,486]\u001b[0m Trial 1 finished with value: 0.0 and parameters: {'subsample': 0.2, 'colsample_bytree': 0.9, 'colsample_bylevel': 0.6, 'min_child_weight': 12, 'max_depth': 8, 'max_delta_step': 0.1, 'learning_rate': 0.09822263016087535, 'n_estimators': 260, 'gamma': 9.2}. Best is trial 0 with value: 0.7670243355073989.\u001b[0m\n",
      "\u001b[32m[I 2020-10-17 12:00:09,166]\u001b[0m Trial 2 finished with value: 0.0 and parameters: {'subsample': 0.6, 'colsample_bytree': 0.8, 'colsample_bylevel': 0.7, 'min_child_weight': 10, 'max_depth': 5, 'max_delta_step': 3.9000000000000004, 'learning_rate': 0.09621236402909387, 'n_estimators': 230, 'gamma': 25.800000000000004}. Best is trial 0 with value: 0.7670243355073989.\u001b[0m\n",
      "\u001b[32m[I 2020-10-17 12:00:12,213]\u001b[0m Trial 3 finished with value: 0.0 and parameters: {'subsample': 0.7000000000000001, 'colsample_bytree': 0.8, 'colsample_bylevel': 0.6, 'min_child_weight': 14, 'max_depth': 4, 'max_delta_step': 3.9000000000000004, 'learning_rate': 0.010374477955901195, 'n_estimators': 485, 'gamma': 20.6}. Best is trial 0 with value: 0.7670243355073989.\u001b[0m\n",
      "\u001b[32m[I 2020-10-17 12:00:14,761]\u001b[0m Trial 4 finished with value: 0.0 and parameters: {'subsample': 0.5, 'colsample_bytree': 0.6, 'colsample_bylevel': 0.8, 'min_child_weight': 15, 'max_depth': 5, 'max_delta_step': 9.1, 'learning_rate': 0.01814596135349025, 'n_estimators': 459, 'gamma': 22.700000000000003}. Best is trial 0 with value: 0.7670243355073989.\u001b[0m\n",
      "\u001b[32m[I 2020-10-17 12:00:16,665]\u001b[0m Trial 5 finished with value: 0.0 and parameters: {'subsample': 0.5, 'colsample_bytree': 0.7, 'colsample_bylevel': 0.8, 'min_child_weight': 18, 'max_depth': 12, 'max_delta_step': 4.5, 'learning_rate': 0.024839922470497277, 'n_estimators': 369, 'gamma': 21.900000000000002}. Best is trial 0 with value: 0.7670243355073989.\u001b[0m\n",
      "\u001b[32m[I 2020-10-17 12:00:17,730]\u001b[0m Trial 6 finished with value: 0.0 and parameters: {'subsample': 0.4, 'colsample_bytree': 0.8, 'colsample_bylevel': 0.8, 'min_child_weight': 8, 'max_depth': 7, 'max_delta_step': 3.9000000000000004, 'learning_rate': 0.01867880257107068, 'n_estimators': 152, 'gamma': 17.700000000000003}. Best is trial 0 with value: 0.7670243355073989.\u001b[0m\n",
      "\u001b[32m[I 2020-10-17 12:00:19,373]\u001b[0m Trial 7 finished with value: 0.8562662178273371 and parameters: {'subsample': 1.0, 'colsample_bytree': 0.9, 'colsample_bylevel': 0.7, 'min_child_weight': 15, 'max_depth': 3, 'max_delta_step': 0.2, 'learning_rate': 0.026509496593643846, 'n_estimators': 228, 'gamma': 6.0}. Best is trial 7 with value: 0.8562662178273371.\u001b[0m\n",
      "\u001b[32m[I 2020-10-17 12:00:21,732]\u001b[0m Trial 8 finished with value: 0.0 and parameters: {'subsample': 0.1, 'colsample_bytree': 1.0, 'colsample_bylevel': 0.9, 'min_child_weight': 3, 'max_depth': 5, 'max_delta_step': 7.8, 'learning_rate': 0.011858906685575274, 'n_estimators': 330, 'gamma': 19.6}. Best is trial 7 with value: 0.8562662178273371.\u001b[0m\n",
      "\u001b[32m[I 2020-10-17 12:00:24,429]\u001b[0m Trial 9 finished with value: 0.8835822988989411 and parameters: {'subsample': 1.0, 'colsample_bytree': 1.0, 'colsample_bylevel': 0.8, 'min_child_weight': 1, 'max_depth': 9, 'max_delta_step': 3.2, 'learning_rate': 0.021143813626634367, 'n_estimators': 198, 'gamma': 17.8}. Best is trial 9 with value: 0.8835822988989411.\u001b[0m\n",
      "\u001b[32m[I 2020-10-17 12:00:25,695]\u001b[0m Trial 10 finished with value: 0.0 and parameters: {'subsample': 1.0, 'colsample_bytree': 1.0, 'colsample_bylevel': 1.0, 'min_child_weight': 1, 'max_depth': 10, 'max_delta_step': 6.5, 'learning_rate': 0.05098689546777847, 'n_estimators': 107, 'gamma': 28.500000000000004}. Best is trial 9 with value: 0.8835822988989411.\u001b[0m\n",
      "\u001b[32m[I 2020-10-17 12:00:26,439]\u001b[0m Trial 11 finished with value: 0.7740725156041798 and parameters: {'subsample': 1.0, 'colsample_bytree': 0.9, 'colsample_bylevel': 0.7, 'min_child_weight': 20, 'max_depth': 9, 'max_delta_step': 1.1, 'learning_rate': 0.04631771347207352, 'n_estimators': 105, 'gamma': 3.0000000000000004}. Best is trial 9 with value: 0.8835822988989411.\u001b[0m\n",
      "\u001b[32m[I 2020-10-17 12:00:27,810]\u001b[0m Trial 12 finished with value: 0.8046496949295182 and parameters: {'subsample': 0.8, 'colsample_bytree': 0.9, 'colsample_bylevel': 0.7, 'min_child_weight': 17, 'max_depth': 10, 'max_delta_step': 2.2, 'learning_rate': 0.03471642191331205, 'n_estimators': 207, 'gamma': 0.8}. Best is trial 9 with value: 0.8835822988989411.\u001b[0m\n",
      "\u001b[32m[I 2020-10-17 12:00:30,633]\u001b[0m Trial 13 finished with value: 0.0 and parameters: {'subsample': 0.9, 'colsample_bytree': 0.9, 'colsample_bylevel': 0.9, 'min_child_weight': 5, 'max_depth': 3, 'max_delta_step': 0.1, 'learning_rate': 0.02452535257189532, 'n_estimators': 294, 'gamma': 10.9}. Best is trial 9 with value: 0.8835822988989411.\u001b[0m\n",
      "\u001b[32m[I 2020-10-17 12:00:31,981]\u001b[0m Trial 14 finished with value: 0.7670594010800196 and parameters: {'subsample': 1.0, 'colsample_bytree': 1.0, 'colsample_bylevel': 0.7, 'min_child_weight': 13, 'max_depth': 7, 'max_delta_step': 2.1, 'learning_rate': 0.016698719424695634, 'n_estimators': 157, 'gamma': 14.6}. Best is trial 9 with value: 0.8835822988989411.\u001b[0m\n",
      "\u001b[32m[I 2020-10-17 12:00:33,655]\u001b[0m Trial 15 finished with value: 0.9110737078336489 and parameters: {'subsample': 0.8, 'colsample_bytree': 0.9, 'colsample_bylevel': 0.6, 'min_child_weight': 10, 'max_depth': 10, 'max_delta_step': 5.9, 'learning_rate': 0.035389753467293505, 'n_estimators': 265, 'gamma': 5.8}. Best is trial 15 with value: 0.9110737078336489.\u001b[0m\n",
      "\u001b[32m[I 2020-10-17 12:00:37,017]\u001b[0m Trial 16 finished with value: 0.9144400028052457 and parameters: {'subsample': 0.7000000000000001, 'colsample_bytree': 0.7, 'colsample_bylevel': 1.0, 'min_child_weight': 1, 'max_depth': 11, 'max_delta_step': 5.5, 'learning_rate': 0.06130976015929285, 'n_estimators': 392, 'gamma': 15.1}. Best is trial 16 with value: 0.9144400028052457.\u001b[0m\n",
      "\u001b[32m[I 2020-10-17 12:00:39,916]\u001b[0m Trial 17 finished with value: 0.9110035766884073 and parameters: {'subsample': 0.8, 'colsample_bytree': 0.6, 'colsample_bylevel': 1.0, 'min_child_weight': 4, 'max_depth': 11, 'max_delta_step': 6.3, 'learning_rate': 0.06881944571397876, 'n_estimators': 391, 'gamma': 13.6}. Best is trial 16 with value: 0.9144400028052457.\u001b[0m\n",
      "\u001b[32m[I 2020-10-17 12:00:42,181]\u001b[0m Trial 18 finished with value: 0.9144750683778667 and parameters: {'subsample': 0.7000000000000001, 'colsample_bytree': 0.7, 'colsample_bylevel': 1.0, 'min_child_weight': 9, 'max_depth': 11, 'max_delta_step': 6.0, 'learning_rate': 0.07042835549381952, 'n_estimators': 422, 'gamma': 4.8}. Best is trial 18 with value: 0.9144750683778667.\u001b[0m\n",
      "\u001b[32m[I 2020-10-17 12:00:44,902]\u001b[0m Trial 19 finished with value: 0.9041657900273511 and parameters: {'subsample': 0.6, 'colsample_bytree': 0.7, 'colsample_bylevel': 1.0, 'min_child_weight': 7, 'max_depth': 12, 'max_delta_step': 8.0, 'learning_rate': 0.07159281023403871, 'n_estimators': 433, 'gamma': 6.4}. Best is trial 18 with value: 0.9144750683778667.\u001b[0m\n"
     ]
    },
    {
     "name": "stdout",
     "output_type": "stream",
     "text": [
      "2020-10-17 12:00:44,905 — dermclass_structured.processing.pipeline — INFO —tune_hyperparameters:102 — Best params found for: XGBRFClassifier with score: 0.962479837295743\n",
      "2020-10-17 12:00:45,498 — dermclass_structured.processing.pipeline — INFO —tune_hyperparameters:105 — Successfully tuned hyperparameters\n",
      "2020-10-17 12:00:45,500 — dermclass_structured.pickles.pickle_handling — INFO —remove_old_pipelines:35 — Start removing old pipelines\n",
      "2020-10-17 12:00:45,501 — dermclass_structured.pickles.pickle_handling — INFO —remove_old_pipelines:35 — Start removing old pipelines\n",
      "2020-10-17 12:00:45,525 — dermclass_structured.pickles.pickle_handling — INFO —save_pipeline:20 — Saved pipeline: structured_pipeline_0.1.0.pkl, to path: C:\\Users\\Kajetan\\Desktop\\dermclass\\src\\dermclass_structured\\dermclass_structured\\pickles\\structured_pipeline_0.1.0.pkl\n"
     ]
    }
   ],
   "source": [
    "# Train and save the pipeline\n",
    "run()"
   ]
  },
  {
   "cell_type": "code",
   "execution_count": 15,
   "metadata": {},
   "outputs": [
    {
     "name": "stdout",
     "output_type": "stream",
     "text": [
      "2020-10-17 12:00:45,537 — dermclass_structured.processing.validation — INFO —validate_inputs:20 — Successfully validated input data\n",
      "2020-10-17 12:00:45,561 — dermclass_structured.pickles.pickle_handling — INFO —load_pipeline:28 — structured_pipeline_0.1.0.pkl loaded\n",
      "2020-10-17 12:00:45,562 — dermclass_structured.predict — INFO —make_prediction:26 — Index(['erythema', 'scaling', 'definite_borders', 'itching',\n",
      "       'koebner_phenomenon', 'polygonal_papules', 'follicular_papules',\n",
      "       'oral_mucosal_involvement', 'knee_and_elbow_involvement',\n",
      "       'scalp_involvement', 'family_history', 'melanin_incontinence',\n",
      "       'eosinophils_in_the_infiltrate', 'pnl_infiltrate',\n",
      "       'fibrosis_of_the_papillary_dermis', 'exocytosis', 'acanthosis',\n",
      "       'hyperkeratosis', 'parakeratosis', 'clubbing_of_the_rete_ridges',\n",
      "       'elongation_of_the_rete_ridges',\n",
      "       'thinning_of_the_suprapapillary_epidermis', 'spongiform_pustule',\n",
      "       'munro_microabcess', 'focal_hypergranulosis',\n",
      "       'disappearance_of_the_granular_layer',\n",
      "       'vacuolisation_and_damage_of_basal_layer', 'spongiosis',\n",
      "       'saw_tooth_appearance_of_retes', 'follicular_horn_plug',\n",
      "       'perifollicular_parakeratosis', 'inflammatory_monoluclear_inflitrate',\n",
      "       'band_like_infiltrate', 'age'],\n",
      "      dtype='object')\n",
      "2020-10-17 12:00:45,570 — dermclass_structured.processing.preprocessors — INFO —transform:59 — Successfully transformed variables\n",
      "2020-10-17 12:00:45,607 — dermclass_structured.predict — INFO —make_prediction:30 — Made predictions with model version: 0.1.0 Inputs:      erythema  scaling  definite_borders  itching  koebner_phenomenon  \\\n",
      "193         2        2                 2        0                   0   \n",
      "33          2        2                 1        0                   0   \n",
      "15          1        1                 0        1                   3   \n",
      "310         3        2                 2        0                   0   \n",
      "57          2        1                 1        3                   0   \n",
      "..        ...      ...               ...      ...                 ...   \n",
      "82          2        1                 1        2                   0   \n",
      "94          2        1                 1        3                   2   \n",
      "192         3        2                 2        2                   0   \n",
      "307         2        1                 2        1                   1   \n",
      "211         2        3                 2        0                   0   \n",
      "\n",
      "     polygonal_papules  follicular_papules  oral_mucosal_involvement  \\\n",
      "193                  0                   0                         0   \n",
      "33                   0                   0                         0   \n",
      "15                   0                   0                         0   \n",
      "310                  0                   0                         0   \n",
      "57                   3                   0                         1   \n",
      "..                 ...                 ...                       ...   \n",
      "82                   0                   0                         0   \n",
      "94                   2                   0                         2   \n",
      "192                  2                   0                         0   \n",
      "307                  0                   0                         0   \n",
      "211                  0                   0                         0   \n",
      "\n",
      "     knee_and_elbow_involvement  scalp_involvement  ...  \\\n",
      "193                           2                  2  ...   \n",
      "33                            1                  0  ...   \n",
      "15                            0                  0  ...   \n",
      "310                           0                  1  ...   \n",
      "57                            0                  0  ...   \n",
      "..                          ...                ...  ...   \n",
      "82                            0                  0  ...   \n",
      "94                            0                  0  ...   \n",
      "192                           0                  0  ...   \n",
      "307                           0                  0  ...   \n",
      "211                           3                  2  ...   \n",
      "\n",
      "     focal_hypergranulosis  disappearance_of_the_granular_layer  \\\n",
      "193                      0                                    2   \n",
      "33                       0                                    0   \n",
      "15                       0                                    0   \n",
      "310                      0                                    2   \n",
      "57                       1                                    0   \n",
      "..                     ...                                  ...   \n",
      "82                       0                                    0   \n",
      "94                       2                                    0   \n",
      "192                      2                                    0   \n",
      "307                      0                                    1   \n",
      "211                      0                                    0   \n",
      "\n",
      "     vacuolisation_and_damage_of_basal_layer  spongiosis  \\\n",
      "193                                        0           0   \n",
      "33                                         0           0   \n",
      "15                                         0           2   \n",
      "310                                        0           0   \n",
      "57                                         3           0   \n",
      "..                                       ...         ...   \n",
      "82                                         0           3   \n",
      "94                                         3           0   \n",
      "192                                        3           0   \n",
      "307                                        0           3   \n",
      "211                                        0           0   \n",
      "\n",
      "     saw_tooth_appearance_of_retes  follicular_horn_plug  \\\n",
      "193                              0                     0   \n",
      "33                               0                     0   \n",
      "15                               0                     0   \n",
      "310                              0                     0   \n",
      "57                               1                     0   \n",
      "..                             ...                   ...   \n",
      "82                               0                     0   \n",
      "94                               2                     0   \n",
      "192                              2                     0   \n",
      "307                              0                     0   \n",
      "211                              0                     0   \n",
      "\n",
      "     perifollicular_parakeratosis  inflammatory_monoluclear_inflitrate  \\\n",
      "193                             0                                    2   \n",
      "33                              0                                    0   \n",
      "15                              0                                    2   \n",
      "310                             0                                    2   \n",
      "57                              0                                    2   \n",
      "..                            ...                                  ...   \n",
      "82                              0                                    3   \n",
      "94                              0                                    3   \n",
      "192                             0                                    3   \n",
      "307                             0                                    2   \n",
      "211                             0                                    1   \n",
      "\n",
      "     band_like_infiltrate   age  \n",
      "193                     0  18.0  \n",
      "33                      0   NaN  \n",
      "15                      0  40.0  \n",
      "310                     0  50.0  \n",
      "57                      2  29.0  \n",
      "..                    ...   ...  \n",
      "82                      0  27.0  \n",
      "94                      3  22.0  \n",
      "192                     3  25.0  \n",
      "307                     0  55.0  \n",
      "211                     0  70.0  \n",
      "\n",
      "[74 rows x 34 columns] Predictions: [1 1 4 1 3 1 2 1 1 6 3 1 1 1 2 3 2 1 1 5 4 1 3 3 1 2 4 1 1 4 1 3 1 5 3 3 1\n",
      " 5 6 4 1 2 1 5 1 1 2 2 2 3 1 2 1 5 1 5 1 1 2 1 1 3 2 4 5 5 5 1 5 2 3 3 4 1]\n"
     ]
    },
    {
     "data": {
      "text/plain": [
       "array([1, 1, 4, 1, 3, 1, 2, 1, 1, 6, 3, 1, 1, 1, 2, 3, 2, 1, 1, 5, 4, 1,\n",
       "       3, 3, 1, 2, 4, 1, 1, 4, 1, 3, 1, 5, 3, 3, 1, 5, 6, 4, 1, 2, 1, 5,\n",
       "       1, 1, 2, 2, 2, 3, 1, 2, 1, 5, 1, 5, 1, 1, 2, 1, 1, 3, 2, 4, 5, 5,\n",
       "       5, 1, 5, 2, 3, 3, 4, 1], dtype=int64)"
      ]
     },
     "execution_count": 15,
     "metadata": {},
     "output_type": "execute_result"
    }
   ],
   "source": [
    "make_prediction(x_test)"
   ]
  },
  {
   "cell_type": "code",
   "execution_count": null,
   "metadata": {},
   "outputs": [],
   "source": [
    "predictions = make_prediction(x_test)"
   ]
  },
  {
   "cell_type": "markdown",
   "metadata": {},
   "source": [
    "### Evaluate results"
   ]
  },
  {
   "cell_type": "code",
   "execution_count": 16,
   "metadata": {},
   "outputs": [
    {
     "ename": "NameError",
     "evalue": "name 'predictions' is not defined",
     "output_type": "error",
     "traceback": [
      "\u001b[1;31m---------------------------------------------------------------------------\u001b[0m",
      "\u001b[1;31mNameError\u001b[0m                                 Traceback (most recent call last)",
      "\u001b[1;32m<ipython-input-16-94772a50f066>\u001b[0m in \u001b[0;36m<module>\u001b[1;34m\u001b[0m\n\u001b[1;32m----> 1\u001b[1;33m \u001b[0mprint\u001b[0m\u001b[1;33m(\u001b[0m\u001b[0maccuracy_score\u001b[0m\u001b[1;33m(\u001b[0m\u001b[0my_test\u001b[0m\u001b[1;33m,\u001b[0m \u001b[0mpredictions\u001b[0m\u001b[1;33m)\u001b[0m\u001b[1;33m)\u001b[0m\u001b[1;33m\u001b[0m\u001b[1;33m\u001b[0m\u001b[0m\n\u001b[0m",
      "\u001b[1;31mNameError\u001b[0m: name 'predictions' is not defined"
     ]
    }
   ],
   "source": [
    "print(accuracy_score(y_test, predictions))"
   ]
  },
  {
   "cell_type": "code",
   "execution_count": null,
   "metadata": {},
   "outputs": [],
   "source": [
    "print(confusion_matrix(y_test, predictions))"
   ]
  },
  {
   "cell_type": "code",
   "execution_count": null,
   "metadata": {},
   "outputs": [],
   "source": [
    "print(classification_report(y_test, predictions))"
   ]
  },
  {
   "cell_type": "code",
   "execution_count": null,
   "metadata": {},
   "outputs": [],
   "source": []
  }
 ],
 "metadata": {
  "kernelspec": {
   "display_name": "Python 3",
   "language": "python",
   "name": "python3"
  },
  "language_info": {
   "codemirror_mode": {
    "name": "ipython",
    "version": 3
   },
   "file_extension": ".py",
   "mimetype": "text/x-python",
   "name": "python",
   "nbconvert_exporter": "python",
   "pygments_lexer": "ipython3",
   "version": "3.7.9"
  },
  "pycharm": {
   "stem_cell": {
    "cell_type": "raw",
    "metadata": {
     "collapsed": false
    },
    "source": []
   }
  }
 },
 "nbformat": 4,
 "nbformat_minor": 4
}
