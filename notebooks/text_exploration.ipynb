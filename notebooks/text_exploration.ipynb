{
 "cells": [
  {
   "cell_type": "code",
   "execution_count": 30,
   "metadata": {},
   "outputs": [
    {
     "name": "stdout",
     "output_type": "stream",
     "text": [
      "hi\n"
     ]
    }
   ],
   "source": [
    "import numpy as np\n",
    "#x = None\n",
    "z = np.array([1,2,3,4 ])\n",
    "y = np.array([1,2,3])\n",
    "if None in [x,y]:\n",
    "    print(\"hi\")"
   ]
  },
  {
   "cell_type": "code",
   "execution_count": null,
   "metadata": {},
   "outputs": [],
   "source": [
    "if ([x_train, x_test, y_train, y_test]).any() is not None:"
   ]
  },
  {
   "cell_type": "code",
   "execution_count": 21,
   "metadata": {},
   "outputs": [
    {
     "name": "stdout",
     "output_type": "stream",
     "text": [
      "2020-11-01 12:33:42,036 — dermclass_models.base.processing.preprocessors — INFO —split_target:19 — Successfully splat the data\n",
      "2020-11-01 12:33:42,036 — dermclass_models.base.processing.preprocessors — INFO —load_csv:22 — Successfully loaded the data\n",
      "2020-11-01 12:33:42,083 — dermclass_models.base.processing.pipeline — INFO —fit_ppc_pipeline:53 — Successfully fitted the preprocessing pipeline\n"
     ]
    }
   ],
   "source": [
    "import logging\n",
    "\n",
    "from sklearn.model_selection import train_test_split\n",
    "from sklearn.pipeline import Pipeline\n",
    "\n",
    "from dermclass_models.base.pickle import Pickle\n",
    "from dermclass_models.base.train_pipeline import Main\n",
    "\n",
    "from dermclass_models.structured.config import StructuredConfig\n",
    "from dermclass_models.base.config import BaseConfig\n",
    "from dermclass_models.structured.processing.pipeline import StructuredPpcPipeline\n",
    "from dermclass_models.structured.processing.preprocessors import StructuredPreprocessors\n",
    "\n",
    "\n",
    "class StructuredMain:\n",
    "\n",
    "    def __init__(self, config: BaseConfig = StructuredConfig):\n",
    "        self.config = config\n",
    "        self.logger = logging.getLogger(__name__)\n",
    "\n",
    "        self.preprocessor = StructuredPreprocessors(self.config)\n",
    "        self.ppcpipeline = StructuredPpcPipeline(self.config)\n",
    "\n",
    "        self.pipeline = None\n",
    "\n",
    "    def run(self):\n",
    "        \"\"\"Desc\"\"\"\n",
    "        self.logger.info(\"Started training the pipeline\")\n",
    "\n",
    "        x, y, df = self.preprocessor.load_data()\n",
    "        x_train, x_test, y_train, y_test = train_test_split(x, y, test_size=self.config.TEST_SIZE, random_state=self.config.SEED)\n",
    "\n",
    "        # TODO: Check if return necessary\n",
    "        self.ppcpipeline.fit_data(x_train, x_test, y_train, y_test)\n",
    "        custom_pipeline = self.ppcpipeline.fit_ppc_pipeline(x_train)\n",
    "\n",
    "        x_train = custom_pipeline.transform(x_train)\n",
    "        x_test = custom_pipeline.transform(x_test)\n",
    "        y_train = y_train.values.ravel()\n",
    "        y_test = y_test.values.ravel()\n",
    "        \n",
    "m = StructuredMain()\n",
    "z = m.run()"
   ]
  },
  {
   "cell_type": "code",
   "execution_count": 1,
   "metadata": {},
   "outputs": [],
   "source": [
    "from pathlib import Path\n",
    "from dermclass_text.processing.preprocessors import load_class_from_dir, load_dataset_from_dir\n",
    "from dermclass_text import config\n",
    "from dermclass_text.processing.pipeline import fit_ppc_pipeline\n",
    "import pandas as pd\n",
    "from sklearn.compose import ColumnTransformer\n",
    "from sklearn.feature_extraction.text import TfidfVectorizer\n",
    "from sklearn.model_selection import train_test_split\n",
    "from sklearn.base import TransformerMixin, BaseEstimator\n",
    "import spacy\n",
    "import numpy as np\n",
    "\n",
    "path = config.DATA_PATH"
   ]
  },
  {
   "cell_type": "code",
   "execution_count": 2,
   "metadata": {},
   "outputs": [],
   "source": [
    "class SpacyPreprocessor(TransformerMixin, BaseEstimator):\n",
    "\n",
    "    def __init__(self):\n",
    "        self.nlp = spacy.load('en_core_web_sm')\n",
    "        self.doc = None\n",
    "        self.x = None\n",
    "\n",
    "    def fit(self, x, y=None):\n",
    "        self.x = x\n",
    "        return self\n",
    "\n",
    "    def transform(self, x=None, y=None):\n",
    "        if x is None:\n",
    "            x = self.x\n",
    "\n",
    "        array = np.array([])\n",
    "        for row in x[\"text\"]:\n",
    "            tokens = self.nlp(row)\n",
    "            clean_tokens = [token for token in tokens if not (token.is_punct or token.is_stop)]\n",
    "            lemmas = [token.lemma_ for token in clean_tokens]\n",
    "            text_lemmatized = \" \".join(lemmas)\n",
    "            array = np.append(array, text_lemmatized)\n",
    "\n",
    "        return array"
   ]
  },
  {
   "cell_type": "code",
   "execution_count": 3,
   "metadata": {},
   "outputs": [
    {
     "ename": "NameError",
     "evalue": "name 'x_train' is not defined",
     "output_type": "error",
     "traceback": [
      "\u001b[1;31m---------------------------------------------------------------------------\u001b[0m",
      "\u001b[1;31mNameError\u001b[0m                                 Traceback (most recent call last)",
      "\u001b[1;32m<ipython-input-3-15b3d3058d0f>\u001b[0m in \u001b[0;36m<module>\u001b[1;34m\u001b[0m\n\u001b[0;32m      1\u001b[0m \u001b[0msp\u001b[0m \u001b[1;33m=\u001b[0m \u001b[0mSpacyPreprocessor\u001b[0m\u001b[1;33m(\u001b[0m\u001b[1;33m)\u001b[0m\u001b[1;33m\u001b[0m\u001b[1;33m\u001b[0m\u001b[0m\n\u001b[1;32m----> 2\u001b[1;33m \u001b[0msp\u001b[0m\u001b[1;33m.\u001b[0m\u001b[0mfit\u001b[0m\u001b[1;33m(\u001b[0m\u001b[0mx_train\u001b[0m\u001b[1;33m)\u001b[0m\u001b[1;33m\u001b[0m\u001b[1;33m\u001b[0m\u001b[0m\n\u001b[0m\u001b[0;32m      3\u001b[0m \u001b[0mx_train_tfd\u001b[0m \u001b[1;33m=\u001b[0m \u001b[0msp\u001b[0m\u001b[1;33m.\u001b[0m\u001b[0mtransform\u001b[0m\u001b[1;33m(\u001b[0m\u001b[0mx_train\u001b[0m\u001b[1;33m)\u001b[0m\u001b[1;33m\u001b[0m\u001b[1;33m\u001b[0m\u001b[0m\n",
      "\u001b[1;31mNameError\u001b[0m: name 'x_train' is not defined"
     ]
    }
   ],
   "source": [
    "sp = SpacyPreprocessor()\n",
    "sp.fit(x_train)\n",
    "x_train_tfd = sp.transform(x_train)"
   ]
  },
  {
   "cell_type": "code",
   "execution_count": 4,
   "metadata": {},
   "outputs": [
    {
     "name": "stdout",
     "output_type": "stream",
     "text": [
      "2020-10-30 17:33:06,758 — dermclass_text.processing.preprocessors — INFO —load_class_from_dir:38 — Successfully loaded class lichen_planus\n",
      "2020-10-30 17:33:06,776 — dermclass_text.processing.preprocessors — INFO —load_class_from_dir:38 — Successfully loaded class psoriasis\n",
      "2020-10-30 17:33:06,778 — dermclass_text.processing.preprocessors — INFO —load_dataset_from_dir:50 — Successfully loaded the data\n",
      "2020-10-30 17:33:06,780 — dermclass_text.processing.preprocessors — INFO —split_target:19 — Successfully splat the data\n",
      "2020-10-30 17:33:10,163 — dermclass_text.processing.pipeline — INFO —fit_ppc_pipeline:23 — Successfully fitted the preprocessing pipeline\n"
     ]
    }
   ],
   "source": [
    "x, y, df = load_dataset_from_dir(config.DATA_PATH)\n",
    "x_train, x_test, y_train, y_test = train_test_split(x, y, test_size=0.2, random_state=config.SEED)\n",
    "\n",
    "# Fit preprocessing pipeline and transform data\n",
    "ppc_pipeline = fit_ppc_pipeline(x_train)\n",
    "x_train = ppc_pipeline.transform(x_train)"
   ]
  },
  {
   "cell_type": "code",
   "execution_count": 9,
   "metadata": {},
   "outputs": [
    {
     "data": {
      "text/plain": [
       "array([[0.        , 0.        , 0.        , ..., 0.        , 0.        ,\n",
       "        0.        ],\n",
       "       [0.        , 0.        , 0.        , ..., 0.        , 0.        ,\n",
       "        0.        ],\n",
       "       [0.        , 0.        , 0.        , ..., 0.        , 0.        ,\n",
       "        0.        ],\n",
       "       ...,\n",
       "       [0.        , 0.        , 0.        , ..., 0.        , 0.        ,\n",
       "        0.        ],\n",
       "       [0.        , 0.        , 0.        , ..., 0.        , 0.        ,\n",
       "        0.        ],\n",
       "       [0.00542563, 0.00542563, 0.        , ..., 0.00542563, 0.00542563,\n",
       "        0.00542563]])"
      ]
     },
     "execution_count": 9,
     "metadata": {},
     "output_type": "execute_result"
    }
   ],
   "source": [
    "x_train.toarray()"
   ]
  },
  {
   "cell_type": "code",
   "execution_count": null,
   "metadata": {},
   "outputs": [],
   "source": []
  }
 ],
 "metadata": {
  "kernelspec": {
   "display_name": "Python 3",
   "language": "python",
   "name": "python3"
  },
  "language_info": {
   "codemirror_mode": {
    "name": "ipython",
    "version": 3
   },
   "file_extension": ".py",
   "mimetype": "text/x-python",
   "name": "python",
   "nbconvert_exporter": "python",
   "pygments_lexer": "ipython3",
   "version": "3.7.9"
  }
 },
 "nbformat": 4,
 "nbformat_minor": 4
}
