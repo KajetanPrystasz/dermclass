{
 "cells": [
  {
   "cell_type": "code",
   "execution_count": 1,
   "metadata": {},
   "outputs": [],
   "source": [
    "from dermclass_models.text.processing.preprocessors import SpacyPreprocessor, TextPreprocessors\n",
    "from dermclass_models.text.processing.pipeline import TextPpcPipeline\n",
    "\n",
    "sp = SpacyPreprocessor()\n",
    "tx = TextPreprocessors()\n",
    "pipe = TextPpcPipeline()"
   ]
  },
  {
   "cell_type": "code",
   "execution_count": 2,
   "metadata": {},
   "outputs": [],
   "source": [
    "pipe.fit_ppc_pipeline()"
   ]
  },
  {
   "cell_type": "code",
   "execution_count": null,
   "metadata": {},
   "outputs": [],
   "source": [
    "tx.fit"
   ]
  },
  {
   "cell_type": "code",
   "execution_count": 3,
   "metadata": {},
   "outputs": [
    {
     "name": "stdout",
     "output_type": "stream",
     "text": [
      "2020-11-01 16:08:14,267 — dermclass_models.base.processing.preprocessors — INFO —load_class_from_dir:36 — Successfully loaded class lichen_planus\n",
      "2020-11-01 16:08:14,282 — dermclass_models.base.processing.preprocessors — INFO —load_class_from_dir:36 — Successfully loaded class psoriasis\n",
      "2020-11-01 16:08:14,284 — dermclass_models.base.processing.preprocessors — INFO —load_dataset_from_dir:47 — Successfully loaded the data\n"
     ]
    },
    {
     "data": {
      "text/html": [
       "<div>\n",
       "<style scoped>\n",
       "    .dataframe tbody tr th:only-of-type {\n",
       "        vertical-align: middle;\n",
       "    }\n",
       "\n",
       "    .dataframe tbody tr th {\n",
       "        vertical-align: top;\n",
       "    }\n",
       "\n",
       "    .dataframe thead th {\n",
       "        text-align: right;\n",
       "    }\n",
       "</style>\n",
       "<table border=\"1\" class=\"dataframe\">\n",
       "  <thead>\n",
       "    <tr style=\"text-align: right;\">\n",
       "      <th></th>\n",
       "      <th>target</th>\n",
       "      <th>text</th>\n",
       "    </tr>\n",
       "  </thead>\n",
       "  <tbody>\n",
       "    <tr>\n",
       "      <th>0</th>\n",
       "      <td>lichen_planus</td>\n",
       "      <td>https://www.mayoclinic.org/diseases-conditions...</td>\n",
       "    </tr>\n",
       "    <tr>\n",
       "      <th>1</th>\n",
       "      <td>lichen_planus</td>\n",
       "      <td>https://www.nhs.uk/conditions/lichen-planus/  ...</td>\n",
       "    </tr>\n",
       "    <tr>\n",
       "      <th>2</th>\n",
       "      <td>lichen_planus</td>\n",
       "      <td>https://dermnetnz.org/topics/lichen-planus/  W...</td>\n",
       "    </tr>\n",
       "    <tr>\n",
       "      <th>3</th>\n",
       "      <td>lichen_planus</td>\n",
       "      <td>https://www.healthline.com/health/lichen-planu...</td>\n",
       "    </tr>\n",
       "    <tr>\n",
       "      <th>4</th>\n",
       "      <td>lichen_planus</td>\n",
       "      <td>https://en.wikipedia.org/wiki/Lichen_planus  L...</td>\n",
       "    </tr>\n",
       "    <tr>\n",
       "      <th>5</th>\n",
       "      <td>psoriasis</td>\n",
       "      <td>https://www.webmd.com/skin-problems-and-treatm...</td>\n",
       "    </tr>\n",
       "    <tr>\n",
       "      <th>6</th>\n",
       "      <td>psoriasis</td>\n",
       "      <td>https://en.wikipedia.org/wiki/Psoriasis#cite_n...</td>\n",
       "    </tr>\n",
       "    <tr>\n",
       "      <th>7</th>\n",
       "      <td>psoriasis</td>\n",
       "      <td>https://www.mayoclinic.org/diseases-conditions...</td>\n",
       "    </tr>\n",
       "    <tr>\n",
       "      <th>8</th>\n",
       "      <td>psoriasis</td>\n",
       "      <td>https://www.psoriasis.org/about-psoriasis/  Wh...</td>\n",
       "    </tr>\n",
       "    <tr>\n",
       "      <th>9</th>\n",
       "      <td>psoriasis</td>\n",
       "      <td>https://www.nhs.uk/conditions/psoriasis/  Psor...</td>\n",
       "    </tr>\n",
       "    <tr>\n",
       "      <th>10</th>\n",
       "      <td>psoriasis</td>\n",
       "      <td>https://www.nhs.uk/conditions/psoriasis/sympto...</td>\n",
       "    </tr>\n",
       "    <tr>\n",
       "      <th>11</th>\n",
       "      <td>psoriasis</td>\n",
       "      <td>https://www.medicinenet.com/psoriasis/article....</td>\n",
       "    </tr>\n",
       "    <tr>\n",
       "      <th>12</th>\n",
       "      <td>psoriasis</td>\n",
       "      <td>https://dermnetnz.org/topics/psoriasis/  What ...</td>\n",
       "    </tr>\n",
       "  </tbody>\n",
       "</table>\n",
       "</div>"
      ],
      "text/plain": [
       "           target                                               text\n",
       "0   lichen_planus  https://www.mayoclinic.org/diseases-conditions...\n",
       "1   lichen_planus  https://www.nhs.uk/conditions/lichen-planus/  ...\n",
       "2   lichen_planus  https://dermnetnz.org/topics/lichen-planus/  W...\n",
       "3   lichen_planus  https://www.healthline.com/health/lichen-planu...\n",
       "4   lichen_planus  https://en.wikipedia.org/wiki/Lichen_planus  L...\n",
       "5       psoriasis  https://www.webmd.com/skin-problems-and-treatm...\n",
       "6       psoriasis  https://en.wikipedia.org/wiki/Psoriasis#cite_n...\n",
       "7       psoriasis  https://www.mayoclinic.org/diseases-conditions...\n",
       "8       psoriasis  https://www.psoriasis.org/about-psoriasis/  Wh...\n",
       "9       psoriasis  https://www.nhs.uk/conditions/psoriasis/  Psor...\n",
       "10      psoriasis  https://www.nhs.uk/conditions/psoriasis/sympto...\n",
       "11      psoriasis  https://www.medicinenet.com/psoriasis/article....\n",
       "12      psoriasis  https://dermnetnz.org/topics/psoriasis/  What ..."
      ]
     },
     "execution_count": 3,
     "metadata": {},
     "output_type": "execute_result"
    }
   ],
   "source": [
    "tx.load_data()"
   ]
  },
  {
   "cell_type": "code",
   "execution_count": null,
   "metadata": {},
   "outputs": [],
   "source": []
  }
 ],
 "metadata": {
  "kernelspec": {
   "display_name": "Python 3",
   "language": "python",
   "name": "python3"
  },
  "language_info": {
   "codemirror_mode": {
    "name": "ipython",
    "version": 3
   },
   "file_extension": ".py",
   "mimetype": "text/x-python",
   "name": "python",
   "nbconvert_exporter": "python",
   "pygments_lexer": "ipython3",
   "version": "3.7.9"
  }
 },
 "nbformat": 4,
 "nbformat_minor": 4
}
