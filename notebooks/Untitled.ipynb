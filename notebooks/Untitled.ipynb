{
 "cells": [
  {
   "cell_type": "code",
   "execution_count": 1,
   "metadata": {},
   "outputs": [],
   "source": [
    "from dermclass_models2.preprocessing import TextPreprocessors, ImagePreprocessors, StructuredPreprocessor\n",
    "from dermclass_models2.config import TextConfig, ImageConfig, StructuredConfig"
   ]
  },
  {
   "cell_type": "code",
   "execution_count": 2,
   "metadata": {},
   "outputs": [],
   "source": [
    "# sp = StructuredPreprocessor(StructuredConfig)\n",
    "# sp.load_data()"
   ]
  },
  {
   "cell_type": "code",
   "execution_count": 3,
   "metadata": {},
   "outputs": [],
   "source": [
    "# ip = ImagePreprocessors(ImageConfig)\n",
    "# ip.load_data()"
   ]
  },
  {
   "cell_type": "code",
   "execution_count": 6,
   "metadata": {},
   "outputs": [
    {
     "name": "stdout",
     "output_type": "stream",
     "text": [
      "2020-12-01 20:00:19,418 — dermclass_models2.preprocessing — INFO —_load_class_from_dir:272 — Successfully loaded class lichen_planus\n",
      "2020-12-01 20:00:19,438 — dermclass_models2.preprocessing — INFO —_load_class_from_dir:272 — Successfully loaded class psoriasis\n",
      "2020-12-01 20:00:19,442 — dermclass_models2.preprocessing — INFO —_load_data_from_files:285 — Successfully loaded the data\n",
      "2020-12-01 20:00:19,444 — dermclass_models2.preprocessing — INFO —_split_target_structured:55 — Successfully splat the target data\n",
      "2020-12-01 20:00:19,448 — dermclass_models2.preprocessing — INFO —_split_train_test_structured:78 — Successfully splat train and test data\n",
      "2020-12-01 20:00:19,451 — dermclass_models2.preprocessing — INFO —_load_data_structured:85 — Successfully loaded the data\n"
     ]
    },
    {
     "data": {
      "text/plain": [
       "(                                                 text\n",
       " 8   https://www.psoriasis.org/about-psoriasis/  Wh...\n",
       " 5   https://www.webmd.com/skin-problems-and-treatm...\n",
       " 2   https://dermnetnz.org/topics/lichen-planus/  W...\n",
       " 1   https://www.nhs.uk/conditions/lichen-planus/  ...\n",
       " 12  https://dermnetnz.org/topics/psoriasis/  What ...\n",
       " 4   https://en.wikipedia.org/wiki/Lichen_planus  L...\n",
       " 7   https://www.mayoclinic.org/diseases-conditions...\n",
       " 10  https://www.nhs.uk/conditions/psoriasis/sympto...\n",
       " 3   https://www.healthline.com/health/lichen-planu...\n",
       " 6   https://en.wikipedia.org/wiki/Psoriasis#cite_n...,\n",
       "                                                  text\n",
       " 11  https://www.medicinenet.com/psoriasis/article....\n",
       " 9   https://www.nhs.uk/conditions/psoriasis/  Psor...\n",
       " 0   https://www.mayoclinic.org/diseases-conditions...,\n",
       " 8         psoriasis\n",
       " 5         psoriasis\n",
       " 2     lichen_planus\n",
       " 1     lichen_planus\n",
       " 12        psoriasis\n",
       " 4     lichen_planus\n",
       " 7         psoriasis\n",
       " 10        psoriasis\n",
       " 3     lichen_planus\n",
       " 6         psoriasis\n",
       " Name: target, dtype: object,\n",
       " 11        psoriasis\n",
       " 9         psoriasis\n",
       " 0     lichen_planus\n",
       " Name: target, dtype: object)"
      ]
     },
     "execution_count": 6,
     "metadata": {},
     "output_type": "execute_result"
    }
   ],
   "source": [
    "tp = TextPreprocessors(TextConfig)\n",
    "tp.load_data(use_generators=False)"
   ]
  },
  {
   "cell_type": "code",
   "execution_count": null,
   "metadata": {},
   "outputs": [],
   "source": []
  }
 ],
 "metadata": {
  "kernelspec": {
   "display_name": "Python 3",
   "language": "python",
   "name": "python3"
  },
  "language_info": {
   "codemirror_mode": {
    "name": "ipython",
    "version": 3
   },
   "file_extension": ".py",
   "mimetype": "text/x-python",
   "name": "python",
   "nbconvert_exporter": "python",
   "pygments_lexer": "ipython3",
   "version": "3.7.9"
  }
 },
 "nbformat": 4,
 "nbformat_minor": 4
}
